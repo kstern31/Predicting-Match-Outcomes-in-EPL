{
 "cells": [
  {
   "cell_type": "code",
   "execution_count": 1,
   "metadata": {
    "ExecuteTime": {
     "end_time": "2018-01-31T17:55:39.261811Z",
     "start_time": "2018-01-31T17:55:37.631787Z"
    }
   },
   "outputs": [],
   "source": [
    "import pandas as pd\n",
    "import numpy as np"
   ]
  },
  {
   "cell_type": "markdown",
   "metadata": {},
   "source": [
    "## Overview\n",
    "Classification problem - predict Team A win, or Team B Win, given the MOST COMMON spread provided by the bookies. I.E. If they give Team B a +1.5 spread, Team A can only be classified as winning IF they score more than 2 goals than Team B.\n",
    "\n",
    "Additional decision on whether to bet on the match? how confident are we in our classification?"
   ]
  },
  {
   "cell_type": "markdown",
   "metadata": {},
   "source": [
    "## Building Model\n",
    "\n",
    "### Features\n",
    "Match related features - average across *N* past matches, remerge with rest of features.\n",
    "\n",
    "External features - Miles traveled? players available for match? (though that means we need player level data), weather?\n",
    "\n",
    "Betting odds? Sharp Money?\n",
    "\n"
   ]
  },
  {
   "cell_type": "markdown",
   "metadata": {},
   "source": [
    "How to decide on train/test split for each season? You don't want to start predicting at the very beginning of the season. If a season has 38 games, assume you start making predictions at game 6 using stats from games 1-5. For game 7, you would use stats from games 1-6? Use game 1 to n-1 to train the model, and use game N as the test data set. \n",
    "\n",
    "What might be interesting to look into: Does accuracy change over the course of the season?"
   ]
  },
  {
   "cell_type": "markdown",
   "metadata": {},
   "source": [
    "## Factors"
   ]
  },
  {
   "cell_type": "markdown",
   "metadata": {},
   "source": [
    "- Previous Performance\n",
    "- Goals Scored and Conceded\n",
    "- Performance in Earlier Encounters among same teams?\n",
    "- Streaks?\n",
    "- Managerial Change\n",
    "- Home Advantage - tied into previous performance (Home team gets previous home performance, away team gets previous away performance)\n",
    "- Match with special importance?\n",
    "- Fatigue - number of days since latest match/number of first team - players rested\n",
    "- Travel Distance\n",
    "- Expert Predictions?\n",
    "- Betting Odds\n",
    "- Strategy?\n",
    "- Club Budgets - difference in budget??\n",
    "- availability of key players"
   ]
  },
  {
   "cell_type": "markdown",
   "metadata": {},
   "source": [
    "- team id\n",
    "- avg goals scored per match\n",
    "- avg goals conceded per match\n",
    "- result of previous match - 5\n",
    "- team hired new coach during previous month\n",
    "- top scorer suspended or injured\n",
    "- top assist suspended or injured\n",
    "- avg goals scored by top scorer\n",
    "- avg assists by top assister\n",
    "- days since previous match\n",
    "- % wins this season (% of wins in  home matches for home team etc)\n",
    "- % lose this season (% of loss in home matches for home team etc)\n",
    "- % draw this season (% of draws in home matches for home team etc)\n",
    "- Home win odds\n",
    "- Draw odds\n",
    "- Away Odds\n"
   ]
  },
  {
   "cell_type": "markdown",
   "metadata": {},
   "source": [
    " Goddard [3] showedthat using the win/draw/lose approach allows higheraccuracy compared to forecasting match outcomethrough predicting the number of goals scored byboth teams, even when win/draw/lose forecasts arededuced from those predicted number of goals. Be-cause the categorical version of the match prediction\n",
    "TRANSACTIONS ON KNOWLEDGE AND DATA ENGINEERING, VOL. X, NO. X, MONTH YEAR 3Fig. 1. Visualization of data used for training andtesting in each steptask is sufﬁcient to be used in a sport betting contestand because it allows a higher level of accuracy thecategorical classiﬁcation approach will be used. \n",
    "\n",
    "Predicting The Dutch Football Competition Using Public Data: A Machine Learning Approach (PDF Download Available). Available from: https://www.researchgate.net/publication/282026611_Predicting_The_Dutch_Football_Competition_Using_Public_Data_A_Machine_Learning_Approach [accessed Jan 31 2018]."
   ]
  },
  {
   "cell_type": "code",
   "execution_count": null,
   "metadata": {},
   "outputs": [],
   "source": []
  }
 ],
 "metadata": {
  "kernelspec": {
   "display_name": "Python 3",
   "language": "python",
   "name": "python3"
  },
  "language_info": {
   "codemirror_mode": {
    "name": "ipython",
    "version": 3
   },
   "file_extension": ".py",
   "mimetype": "text/x-python",
   "name": "python",
   "nbconvert_exporter": "python",
   "pygments_lexer": "ipython3",
   "version": "3.5.1"
  },
  "varInspector": {
   "cols": {
    "lenName": 16,
    "lenType": 16,
    "lenVar": 40
   },
   "kernels_config": {
    "python": {
     "delete_cmd_postfix": "",
     "delete_cmd_prefix": "del ",
     "library": "var_list.py",
     "varRefreshCmd": "print(var_dic_list())"
    },
    "r": {
     "delete_cmd_postfix": ") ",
     "delete_cmd_prefix": "rm(",
     "library": "var_list.r",
     "varRefreshCmd": "cat(var_dic_list()) "
    }
   },
   "types_to_exclude": [
    "module",
    "function",
    "builtin_function_or_method",
    "instance",
    "_Feature"
   ],
   "window_display": false
  }
 },
 "nbformat": 4,
 "nbformat_minor": 2
}
