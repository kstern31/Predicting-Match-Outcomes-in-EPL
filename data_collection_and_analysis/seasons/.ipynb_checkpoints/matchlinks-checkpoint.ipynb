{
 "cells": [
  {
   "cell_type": "code",
   "execution_count": 1,
   "metadata": {
    "ExecuteTime": {
     "end_time": "2018-02-10T16:05:08.013888Z",
     "start_time": "2018-02-10T16:05:02.276907Z"
    }
   },
   "outputs": [],
   "source": [
    "from selenium import webdriver\n",
    "from selenium.webdriver.support.ui import Select\n",
    "import time\n",
    "import os\n",
    "import pickle\n",
    "import pandas as pd\n",
    "import json\n",
    "\n",
    "from selenium.webdriver.common.by import By\n",
    "from selenium.webdriver.support.ui import WebDriverWait\n",
    "from selenium.webdriver.support import expected_conditions as EC\n",
    "from selenium.common.exceptions import NoSuchElementException\n",
    "from selenium.common.exceptions import StaleElementReferenceException\n",
    "\n",
    "chromedriver = \"/Applications/chromedriver\"\n",
    "os.environ[\"webdriver.chrome.driver\"] = chromedriver\n",
    "\n",
    "driver = webdriver.Chrome(chromedriver)\n",
    "driver.implicitly_wait(5)\n",
    "ignored_exceptions=(NoSuchElementException,StaleElementReferenceException,)\n",
    "wait = WebDriverWait(driver, 5, ignored_exceptions = ignored_exceptions)"
   ]
  },
  {
   "cell_type": "code",
   "execution_count": 2,
   "metadata": {
    "ExecuteTime": {
     "end_time": "2018-02-10T16:05:43.596567Z",
     "start_time": "2018-02-10T16:05:08.026300Z"
    }
   },
   "outputs": [],
   "source": [
    "### to get all season links from 2009/2010 season onward (when they started giving detailed stats)\n",
    "driver.get('https://www.whoscored.com/Regions/252/Tournaments/2/England-Premier-League')\n",
    "\n",
    "#get list of season links\n",
    "season = Select(driver.find_element_by_xpath('//*[@id=\"seasons\"]'))\n",
    "options = season.options\n",
    "seasonList = []\n",
    "\n",
    "for i in season.options:\n",
    "    seasonList.append(\"https://whoscored.com%s\" % (i.get_attribute('value')))\n",
    "    if i.get_attribute('value') == \"/Regions/252/Tournaments/2/Seasons/2458/England-Premier-League\":\n",
    "        break"
   ]
  },
  {
   "cell_type": "code",
   "execution_count": 3,
   "metadata": {
    "ExecuteTime": {
     "end_time": "2018-02-10T16:05:43.621773Z",
     "start_time": "2018-02-10T16:05:43.610130Z"
    }
   },
   "outputs": [],
   "source": [
    "#xpaths for whoscored month selector tool\n",
    "#xpaths for aug-dec\n",
    "half1months = ['//*[@id=\"date-config\"]/div[1]/div/table/tbody/tr/td[2]/div/table/tbody/tr[2]/td[4]',\n",
    "              '//*[@id=\"date-config\"]/div[1]/div/table/tbody/tr/td[2]/div/table/tbody/tr[3]/td[1]',\n",
    "              '//*[@id=\"date-config\"]/div[1]/div/table/tbody/tr/td[2]/div/table/tbody/tr[3]/td[2]',\n",
    "              '//*[@id=\"date-config\"]/div[1]/div/table/tbody/tr/td[2]/div/table/tbody/tr[3]/td[3]',\n",
    "              '//*[@id=\"date-config\"]/div[1]/div/table/tbody/tr/td[2]/div/table/tbody/tr[3]/td[4]']\n",
    "\n",
    "#xpaths for jan-may\n",
    "half2months = ['//*[@id=\"date-config\"]/div[1]/div/table/tbody/tr/td[2]/div/table/tbody/tr[1]/td[1]',\n",
    "              '//*[@id=\"date-config\"]/div[1]/div/table/tbody/tr/td[2]/div/table/tbody/tr[1]/td[2]',\n",
    "              '//*[@id=\"date-config\"]/div[1]/div/table/tbody/tr/td[2]/div/table/tbody/tr[1]/td[3]',\n",
    "              '//*[@id=\"date-config\"]/div[1]/div/table/tbody/tr/td[2]/div/table/tbody/tr[1]/td[4]',\n",
    "              '//*[@id=\"date-config\"]/div[1]/div/table/tbody/tr/td[2]/div/table/tbody/tr[2]/td[1]']"
   ]
  },
  {
   "cell_type": "code",
   "execution_count": 4,
   "metadata": {
    "ExecuteTime": {
     "end_time": "2018-02-10T16:05:43.732125Z",
     "start_time": "2018-02-10T16:05:43.670663Z"
    }
   },
   "outputs": [],
   "source": [
    "def getMatchLinks(season):\n",
    "    match_links = []\n",
    "    driver.get(season)\n",
    "    driver.execute_script(\"window.scrollTo(0, 500)\")\n",
    "    fixturePage = driver.find_element_by_xpath('//*[@id=\"sub-navigation\"]/ul/li[2]/a')\n",
    "    driver.execute_script(\"window.scrollTo(0, 500)\")\n",
    "    fixturePage.click()\n",
    "    monthList = driver.find_element_by_xpath('//*[@id=\"date-config-toggle-button\"]/span[1]')\n",
    "    monthList.click()\n",
    "    half1 = driver.find_element_by_xpath('//*[@id=\"date-config\"]/div[1]/div/table/tbody/tr/td[1]/div/table/tbody/tr[1]/td')\n",
    "    half1.click()\n",
    "    match_links + monthSelector(half1months, match_links)\n",
    "    half2 = driver.find_element_by_xpath('//*[@id=\"date-config\"]/div[1]/div/table/tbody/tr/td[1]/div/table/tbody/tr[2]/td')\n",
    "    half2.click()\n",
    "    match_links + monthSelector(half2months, match_links)\n",
    "    return match_links"
   ]
  },
  {
   "cell_type": "code",
   "execution_count": 5,
   "metadata": {
    "ExecuteTime": {
     "end_time": "2018-02-10T16:05:43.785466Z",
     "start_time": "2018-02-10T16:05:43.743993Z"
    }
   },
   "outputs": [],
   "source": [
    "def monthSelector(monthxpaths, l):\n",
    "    for month in monthxpaths:\n",
    "        driver.execute_script(\"window.scrollTo(0, 500)\")\n",
    "        driver.find_element_by_xpath(month).click()\n",
    "        time.sleep(1.5)\n",
    "        links = driver.find_elements_by_partial_link_text(':')\n",
    "        for link in links:\n",
    "            if link.get_attribute(\"href\") not in l:\n",
    "                l.append(link.get_attribute(\"href\"))\n",
    "    return l\n",
    "    "
   ]
  },
  {
   "cell_type": "code",
   "execution_count": 6,
   "metadata": {
    "ExecuteTime": {
     "end_time": "2018-02-08T04:30:15.855773Z",
     "start_time": "2018-02-08T04:29:14.117518Z"
    }
   },
   "outputs": [],
   "source": [
    "s1011 = getMatchLinks(seasonList[-1])"
   ]
  },
  {
   "cell_type": "code",
   "execution_count": 7,
   "metadata": {
    "ExecuteTime": {
     "end_time": "2018-02-08T04:30:53.919933Z",
     "start_time": "2018-02-08T04:30:15.857616Z"
    }
   },
   "outputs": [],
   "source": [
    "s1112 = getMatchLinks(seasonList[-2])"
   ]
  },
  {
   "cell_type": "code",
   "execution_count": 6,
   "metadata": {
    "ExecuteTime": {
     "end_time": "2018-02-08T14:55:27.218400Z",
     "start_time": "2018-02-08T14:53:57.610886Z"
    }
   },
   "outputs": [],
   "source": [
    "s1213 = getMatchLinks(seasonList[-3])"
   ]
  },
  {
   "cell_type": "code",
   "execution_count": 7,
   "metadata": {
    "ExecuteTime": {
     "end_time": "2018-02-08T14:56:38.140621Z",
     "start_time": "2018-02-08T14:55:27.229584Z"
    }
   },
   "outputs": [],
   "source": [
    "s1314 = getMatchLinks(seasonList[-4])"
   ]
  },
  {
   "cell_type": "code",
   "execution_count": 7,
   "metadata": {
    "ExecuteTime": {
     "end_time": "2018-02-09T03:00:01.400230Z",
     "start_time": "2018-02-09T02:58:57.522993Z"
    }
   },
   "outputs": [],
   "source": [
    "s1415 = getMatchLinks(seasonList[-5])"
   ]
  },
  {
   "cell_type": "code",
   "execution_count": 8,
   "metadata": {
    "ExecuteTime": {
     "end_time": "2018-02-09T03:00:37.020612Z",
     "start_time": "2018-02-09T03:00:01.437796Z"
    }
   },
   "outputs": [],
   "source": [
    "s1516 = getMatchLinks(seasonList[-6])"
   ]
  },
  {
   "cell_type": "code",
   "execution_count": 6,
   "metadata": {
    "ExecuteTime": {
     "end_time": "2018-02-09T14:38:35.924961Z",
     "start_time": "2018-02-09T14:37:37.982088Z"
    }
   },
   "outputs": [],
   "source": [
    "s1617 = getMatchLinks(seasonList[-7])"
   ]
  },
  {
   "cell_type": "code",
   "execution_count": 6,
   "metadata": {
    "ExecuteTime": {
     "end_time": "2018-02-10T16:07:06.701900Z",
     "start_time": "2018-02-10T16:05:43.806450Z"
    }
   },
   "outputs": [],
   "source": [
    "s1718 = getMatchLinks(seasonList[-8])"
   ]
  },
  {
   "cell_type": "markdown",
   "metadata": {},
   "source": [
    "# Within Page Scraping"
   ]
  },
  {
   "cell_type": "markdown",
   "metadata": {},
   "source": [
    "start at s1011"
   ]
  },
  {
   "cell_type": "code",
   "execution_count": 13,
   "metadata": {
    "ExecuteTime": {
     "end_time": "2018-02-09T03:06:24.447022Z",
     "start_time": "2018-02-09T03:06:24.441414Z"
    }
   },
   "outputs": [
    {
     "data": {
      "text/plain": [
       "'https://www.whoscored.com/Matches/1190174/Live/England-Premier-League-2017-2018-Arsenal-Leicester'"
      ]
     },
     "execution_count": 13,
     "metadata": {},
     "output_type": "execute_result"
    }
   ],
   "source": [
    "s1718[0]"
   ]
  },
  {
   "cell_type": "code",
   "execution_count": 8,
   "metadata": {
    "ExecuteTime": {
     "end_time": "2018-02-09T14:40:12.451899Z",
     "start_time": "2018-02-09T14:40:07.230926Z"
    }
   },
   "outputs": [],
   "source": [
    "def getMatchStats(season):\n",
    "    for match in season:\n",
    "        filename = '%s.json' % (''.join(match.split(\"-\")[3:5]))\n",
    "        with open(filename) as f:\n",
    "           data = json.load(f)\n",
    "        if match not in pd.DataFrame(data).url.values or len(pd.DataFrame(data)) == 0:\n",
    "            matchDict = {}\n",
    "            driver.get(match)\n",
    "            time.sleep(1)\n",
    "            #main\n",
    "            matchDict['url'] = match\n",
    "            matchDict['homeTeam'] = wait.until(EC.element_to_be_clickable((By.XPATH, '//*[@id=\"match-header\"]/table/tbody/tr[1]/td[1]/a'))).text\n",
    "            matchDict['awayTeam'] = driver.find_element_by_xpath('//*[@id=\"match-header\"]/table/tbody/tr[1]/td[3]/a').text\n",
    "            matchDict['date'] = driver.find_element_by_xpath('//*[@id=\"match-header\"]/table/tbody/tr[2]/td[2]/div[3]/dl/dd[2]').text\n",
    "\n",
    "            #preview - only available from 2010/2011 onwards. USED to PREDICT THIS GAME\n",
    "            driver.execute_script(\"window.scrollTo(0, 800)\")\n",
    "            preview = wait.until(EC.presence_of_element_located((By.XPATH, '//*[@id=\"sub-navigation\"]/ul/li[1]/a')))\n",
    "            preview.click()\n",
    "            time.sleep(1)\n",
    "\n",
    "            matchDict['homePredAvgAge'] = wait.until(EC.presence_of_element_located((By.XPATH, '//*[@id=\"probable-lineup-stats\"]/div[1]/div[2]/div/div[2]/div[2]/span[1]/span'))).text\n",
    "            matchDict['awayPredAvgAge'] = driver.find_element_by_xpath('//*[@id=\"probable-lineup-stats\"]/div[1]/div[2]/div/div[2]/div[2]/span[3]/span').text\n",
    "            matchDict['homePredAvgHeight'] = driver.find_element_by_xpath('//*[@id=\"probable-lineup-stats\"]/div[1]/div[2]/div/div[2]/div[3]/span[1]/span').text\n",
    "            matchDict['awayPredAvgHeight'] = driver.find_element_by_xpath('//*[@id=\"probable-lineup-stats\"]/div[1]/div[2]/div/div[2]/div[3]/span[3]/span').text\n",
    "            matchDict['homeWins'] = driver.find_element_by_xpath('//*[@id=\"h2h-summary-standing-grid\"]/tbody/tr[1]/td[3]').text\n",
    "            matchDict['homeDraws'] = driver.find_element_by_xpath('//*[@id=\"h2h-summary-standing-grid\"]/tbody/tr[1]/td[4]').text\n",
    "            matchDict['homeLosses'] = driver.find_element_by_xpath('//*[@id=\"h2h-summary-standing-grid\"]/tbody/tr[1]/td[5]').text\n",
    "            matchDict['awayWins'] = driver.find_element_by_xpath('//*[@id=\"h2h-summary-standing-grid\"]/tbody/tr[2]/td[3]').text\n",
    "            matchDict['awayDraws'] = driver.find_element_by_xpath('//*[@id=\"h2h-summary-standing-grid\"]/tbody/tr[2]/td[4]').text\n",
    "            matchDict['awayLosses'] = driver.find_element_by_xpath('//*[@id=\"h2h-summary-standing-grid\"]/tbody/tr[2]/td[5]').text\n",
    "\n",
    "            #in preview section as well, getting top players and those who are injured\n",
    "            #top players\n",
    "            top = driver.find_elements_by_class_name('list-key')\n",
    "            topPlayers = []\n",
    "            for i in top:\n",
    "                topPlayers.append(i.text)\n",
    "\n",
    "            matchDict['homeTopPlayers'] = topPlayers[:3] + topPlayers[6:9] + topPlayers[12:15]\n",
    "            matchDict['awayTopPlayers'] = topPlayers[3:6] + topPlayers[9:12] + topPlayers[15:18]\n",
    "\n",
    "            #missingplayers\n",
    "            missing = driver.find_elements_by_class_name('pn')\n",
    "            missing = [x.text for x in missing if x.text != \"Player\"]\n",
    "            status = driver.find_elements_by_class_name('confirmed')\n",
    "            status = [x.text for x in status]\n",
    "\n",
    "            doubtfulPlayers = []\n",
    "            missingPlayers = []\n",
    "\n",
    "            for i in range(len(status)):\n",
    "                if status[i] == \"Out\":\n",
    "                    missingPlayers.append(missing[i])\n",
    "                else:\n",
    "                    doubtfulPlayers.append(missing[i])\n",
    "\n",
    "            #match centre\n",
    "            matchcentre = wait.until(EC.presence_of_element_located((By.XPATH, '//*[@id=\"sub-navigation\"]/ul/li[4]/a')))\n",
    "            matchcentre.click()\n",
    "            time.sleep(1)\n",
    "\n",
    "            matchDict['homePoss'] = wait.until(EC.presence_of_element_located((By.XPATH, '//*[@id=\"match-centre-stats\"]/ul/li[5]/div[1]/span[1]'))).text\n",
    "            matchDict['awayPoss'] = driver.find_element_by_xpath('//*[@id=\"match-centre-stats\"]/ul/li[5]/div[1]/span[3]').text\n",
    "            matchDict['homePassSuccess'] = driver.find_element_by_xpath('//*[@id=\"match-centre-stats\"]/ul/li[7]/div[1]/span[1]').text\n",
    "            matchDict['awayPassSuccess'] = driver.find_element_by_xpath('//*[@id=\"match-centre-stats\"]/ul/li[7]/div[1]/span[3]').text\n",
    "            matchDict['referee'] = driver.find_element_by_xpath('//*[@id=\"stadium\"]/div[2]/div[1]/span[4]/a/span[2]').text\n",
    "\n",
    "            #chalkboard\n",
    "            chalkboard = wait.until(EC.presence_of_element_located((By.XPATH, '//*[@id=\"live-match-options\"]/li[3]/a/span[2]')))\n",
    "            chalkboard.click()\n",
    "            time.sleep(1)\n",
    "            driver.execute_script(\"window.scrollTo(0, 1100)\")\n",
    "\n",
    "            matchDict['homeRating'] = wait.until(EC.presence_of_element_located((By.XPATH, '//*[@id=\"match-centre-header\"]/div[1]/div[2]/div[1]'))).text\n",
    "            matchDict['awayRating'] = driver.find_element_by_xpath('//*[@id=\"match-centre-header\"]/div[3]/div[2]/div[1]').text\n",
    "            matchDict['homeManager'] = driver.find_element_by_xpath('//*[@id=\"match-centre-header\"]/div[1]/div[2]/div[2]/span[2]').text\n",
    "            matchDict['awayManager'] = driver.find_element_by_xpath('//*[@id=\"match-centre-header\"]/div[3]/div[2]/div[2]/span[2]').text\n",
    "            matchDict['homeFormation'] = driver.find_element_by_xpath('//*[@id=\"match-centre-header\"]/div[1]/div[2]/div[3]').text\n",
    "            matchDict['awayFormation'] = driver.find_element_by_xpath('//*[@id=\"match-centre-header\"]/div[3]/div[2]/div[3]').text\n",
    "            matchDict['homeTotalShots'] = driver.find_element_by_xpath('//*[@id=\"event-type-filters\"]/li[1]/a/div/span[1]').text\n",
    "            matchDict['awayTotalShots'] = driver.find_element_by_xpath('//*[@id=\"event-type-filters\"]/li[1]/a/div/span[3]').text\n",
    "            matchDict['homeGoals'] = driver.find_element_by_xpath('//*[@id=\"chalkboard\"]/div[2]/div[1]/div[2]/div[2]/span[1]').text\n",
    "            matchDict['awayGoals'] = driver.find_element_by_xpath('//*[@id=\"chalkboard\"]/div[2]/div[1]/div[2]/div[2]/span[2]').text\n",
    "            matchDict['homeSOT'] = driver.find_element_by_xpath('//*[@id=\"chalkboard\"]/div[2]/div[1]/div[2]/div[3]/span[1]').text\n",
    "            matchDict['awaySOT'] = driver.find_element_by_xpath('//*[@id=\"chalkboard\"]/div[2]/div[1]/div[2]/div[3]/span[2]').text\n",
    "            matchDict['homeSOffT'] = driver.find_element_by_xpath('//*[@id=\"chalkboard\"]/div[2]/div[1]/div[2]/div[4]/span[1]').text\n",
    "            matchDict['awaySOffT'] = driver.find_element_by_xpath('//*[@id=\"chalkboard\"]/div[2]/div[1]/div[2]/div[4]/span[2]').text\n",
    "            matchDict['homeWoodwork'] = driver.find_element_by_xpath('//*[@id=\"chalkboard\"]/div[2]/div[1]/div[2]/div[5]/span[1]').text\n",
    "            matchDict['awayWoodwork'] = driver.find_element_by_xpath('//*[@id=\"chalkboard\"]/div[2]/div[1]/div[2]/div[5]/span[2]').text\n",
    "            matchDict['homeShotsBlocked'] = driver.find_element_by_xpath('//*[@id=\"chalkboard\"]/div[2]/div[1]/div[2]/div[6]/span[1]').text\n",
    "            matchDict['awayShotsBlocked'] = driver.find_element_by_xpath('//*[@id=\"chalkboard\"]/div[2]/div[1]/div[2]/div[6]/span[2]').text\n",
    "            matchDict['homeOwnGoal'] = driver.find_element_by_xpath('//*[@id=\"chalkboard\"]/div[2]/div[1]/div[2]/div[7]/span[1]').text\n",
    "            matchDict['awayOwnGoal'] = driver.find_element_by_xpath('//*[@id=\"chalkboard\"]/div[2]/div[1]/div[2]/div[7]/span[2]').text\n",
    "            matchDict['homeShotsIn6Yrd'] = driver.find_element_by_xpath('//*[@id=\"chalkboard\"]/div[2]/div[1]/div[3]/div[2]/span[1]').text\n",
    "            matchDict['awayShotsIn6Yrd'] = driver.find_element_by_xpath('//*[@id=\"chalkboard\"]/div[2]/div[1]/div[3]/div[2]/span[2]').text\n",
    "            matchDict['homeShotsInBox'] = driver.find_element_by_xpath('//*[@id=\"chalkboard\"]/div[2]/div[1]/div[3]/div[3]/span[1]').text\n",
    "            matchDict['awayShotsInBox'] = driver.find_element_by_xpath('//*[@id=\"chalkboard\"]/div[2]/div[1]/div[3]/div[3]/span[2]').text\n",
    "            matchDict['homeShotsOutBox'] = driver.find_element_by_xpath('//*[@id=\"chalkboard\"]/div[2]/div[1]/div[3]/div[4]/span[1]').text\n",
    "            matchDict['awayShotsOutBox'] = driver.find_element_by_xpath('//*[@id=\"chalkboard\"]/div[2]/div[1]/div[3]/div[4]/span[2]').text\n",
    "            matchDict['homeShotsOpenPlay'] = driver.find_element_by_xpath('//*[@id=\"chalkboard\"]/div[2]/div[1]/div[4]/div[2]/span[1]').text\n",
    "            matchDict['awayShotsOpenPlay'] = driver.find_element_by_xpath('//*[@id=\"chalkboard\"]/div[2]/div[1]/div[4]/div[2]/span[2]').text\n",
    "            matchDict['homeShotsFastBreak'] = driver.find_element_by_xpath('//*[@id=\"chalkboard\"]/div[2]/div[1]/div[4]/div[3]/span[1]').text\n",
    "            matchDict['awayShotsFastBreak'] = driver.find_element_by_xpath('//*[@id=\"chalkboard\"]/div[2]/div[1]/div[4]/div[3]/span[2]').text\n",
    "            matchDict['homeShotsSetPiece'] = driver.find_element_by_xpath('//*[@id=\"chalkboard\"]/div[2]/div[1]/div[4]/div[4]/span[1]').text\n",
    "            matchDict['awayShotsSetPiece'] = driver.find_element_by_xpath('//*[@id=\"chalkboard\"]/div[2]/div[1]/div[4]/div[4]/span[2]').text\n",
    "            matchDict['homeShotsPenalty'] = driver.find_element_by_xpath('//*[@id=\"chalkboard\"]/div[2]/div[1]/div[4]/div[5]/span[1]').text\n",
    "            matchDict['awayShotsPenalty'] = driver.find_element_by_xpath('//*[@id=\"chalkboard\"]/div[2]/div[1]/div[4]/div[5]/span[2]').text\n",
    "            matchDict['homeShotsRightFoot'] = driver.find_element_by_xpath('//*[@id=\"chalkboard\"]/div[2]/div[1]/div[5]/div[2]/span[1]').text\n",
    "            matchDict['awayShotsRightFoot'] = driver.find_element_by_xpath('//*[@id=\"chalkboard\"]/div[2]/div[1]/div[5]/div[2]/span[2]').text\n",
    "            matchDict['homeShotsLeftFoot'] = driver.find_element_by_xpath('//*[@id=\"chalkboard\"]/div[2]/div[1]/div[5]/div[3]/span[1]').text\n",
    "            matchDict['awayShotsLeftFoot'] = driver.find_element_by_xpath('//*[@id=\"chalkboard\"]/div[2]/div[1]/div[5]/div[3]/span[2]').text\n",
    "            matchDict['homeShotsHead'] = driver.find_element_by_xpath('//*[@id=\"chalkboard\"]/div[2]/div[1]/div[5]/div[4]/span[1]').text\n",
    "            matchDict['awayShotsHead'] = driver.find_element_by_xpath('//*[@id=\"chalkboard\"]/div[2]/div[1]/div[5]/div[4]/span[2]').text\n",
    "            matchDict['homeShotsOther'] = driver.find_element_by_xpath('//*[@id=\"chalkboard\"]/div[2]/div[1]/div[5]/div[5]/span[1]').text\n",
    "            matchDict['awayShotsOther'] = driver.find_element_by_xpath('//*[@id=\"chalkboard\"]/div[2]/div[1]/div[5]/div[5]/span[2]').text\n",
    "\n",
    "            passes = wait.until(EC.visibility_of_element_located((By.XPATH, '//*[@id=\"event-type-filters\"]/li[2]/a/div')))\n",
    "            passes.click()\n",
    "            time.sleep(1)\n",
    "\n",
    "            matchDict['homePassTypeCross'] = driver.find_element_by_xpath('//*[@id=\"chalkboard\"]/div[2]/div[3]/div[1]/div[2]/span[1]').text\n",
    "            matchDict['awayPassTypeCross'] = driver.find_element_by_xpath('//*[@id=\"chalkboard\"]/div[2]/div[3]/div[1]/div[2]/span[2]').text\n",
    "            matchDict['homePassTypeFK'] = driver.find_element_by_xpath('//*[@id=\"chalkboard\"]/div[2]/div[3]/div[1]/div[3]/span[1]').text\n",
    "            matchDict['awayPassTypeFK'] = driver.find_element_by_xpath('//*[@id=\"chalkboard\"]/div[2]/div[3]/div[1]/div[3]/span[2]').text\n",
    "            matchDict['homePassTypeCorner'] = driver.find_element_by_xpath('//*[@id=\"chalkboard\"]/div[2]/div[3]/div[1]/div[4]/span[1]').text\n",
    "            matchDict['awayPassTypeCorner'] = driver.find_element_by_xpath('//*[@id=\"chalkboard\"]/div[2]/div[3]/div[1]/div[4]/span[2]').text\n",
    "            matchDict['homePassTypeThrough'] = driver.find_element_by_xpath('//*[@id=\"chalkboard\"]/div[2]/div[3]/div[1]/div[5]/span[1]').text\n",
    "            matchDict['awayPassTypeThrough'] = driver.find_element_by_xpath('//*[@id=\"chalkboard\"]/div[2]/div[3]/div[1]/div[5]/span[2]').text\n",
    "            matchDict['homePassTypeThrow'] = driver.find_element_by_xpath('//*[@id=\"chalkboard\"]/div[2]/div[3]/div[1]/div[6]/span[1]').text\n",
    "            matchDict['awayPassTypeThrow'] = driver.find_element_by_xpath('//*[@id=\"chalkboard\"]/div[2]/div[3]/div[1]/div[6]/span[2]').text\n",
    "            matchDict['homePassTypeKeyPass'] = driver.find_element_by_xpath('//*[@id=\"chalkboard\"]/div[2]/div[3]/div[1]/div[7]/span[1]').text\n",
    "            matchDict['awayPassTypeKeyPass'] = driver.find_element_by_xpath('//*[@id=\"chalkboard\"]/div[2]/div[3]/div[1]/div[7]/span[2]').text\n",
    "            matchDict['homePassTypeLong'] = driver.find_element_by_xpath('//*[@id=\"chalkboard\"]/div[2]/div[3]/div[2]/div[2]/span[1]').text\n",
    "            matchDict['awayPassTypeLong'] = driver.find_element_by_xpath('//*[@id=\"chalkboard\"]/div[2]/div[3]/div[2]/div[2]/span[2]').text\n",
    "            matchDict['homePassTypeShort'] = driver.find_element_by_xpath('//*[@id=\"chalkboard\"]/div[2]/div[3]/div[2]/div[3]/span[1]').text\n",
    "            matchDict['awayPassTypeShort'] = driver.find_element_by_xpath('//*[@id=\"chalkboard\"]/div[2]/div[3]/div[2]/div[3]/span[2]').text\n",
    "            matchDict['homePassHeightChipped'] = driver.find_element_by_xpath('//*[@id=\"chalkboard\"]/div[2]/div[3]/div[3]/div[2]/span[1]').text\n",
    "            matchDict['awayPassHeightChipped'] = driver.find_element_by_xpath('//*[@id=\"chalkboard\"]/div[2]/div[3]/div[3]/div[2]/span[2]').text\n",
    "            matchDict['homePassHeightGround'] = driver.find_element_by_xpath('//*[@id=\"chalkboard\"]/div[2]/div[3]/div[3]/div[3]/span[1]').text\n",
    "            matchDict['awayPassHeightGround'] = driver.find_element_by_xpath('//*[@id=\"chalkboard\"]/div[2]/div[3]/div[3]/div[3]/span[2]').text\n",
    "            matchDict['homePassHead'] = driver.find_element_by_xpath('//*[@id=\"chalkboard\"]/div[2]/div[3]/div[4]/div[2]/span[1]').text\n",
    "            matchDict['awayPassHead'] = driver.find_element_by_xpath('//*[@id=\"chalkboard\"]/div[2]/div[3]/div[4]/div[2]/span[2]').text\n",
    "            matchDict['homePassFeet'] = driver.find_element_by_xpath('//*[@id=\"chalkboard\"]/div[2]/div[3]/div[4]/div[3]/span[1]').text\n",
    "            matchDict['awayPassFeet'] = driver.find_element_by_xpath('//*[@id=\"chalkboard\"]/div[2]/div[3]/div[4]/div[3]/span[2]').text\n",
    "            matchDict['homePassDirectionForward'] = driver.find_element_by_xpath('//*[@id=\"chalkboard\"]/div[2]/div[3]/div[5]/div[2]/span[1]').text\n",
    "            matchDict['awayPassDirectionForward'] = driver.find_element_by_xpath('//*[@id=\"chalkboard\"]/div[2]/div[3]/div[5]/div[2]/span[2]').text\n",
    "            matchDict['homePassDirectionBackward'] = driver.find_element_by_xpath('//*[@id=\"chalkboard\"]/div[2]/div[3]/div[5]/div[3]/span[1]').text\n",
    "            matchDict['awayPassDirectionBackward'] = driver.find_element_by_xpath('//*[@id=\"chalkboard\"]/div[2]/div[3]/div[5]/div[3]/span[2]').text\n",
    "            matchDict['homePassDirectionLeft'] = driver.find_element_by_xpath('//*[@id=\"chalkboard\"]/div[2]/div[3]/div[5]/div[4]/span[1]').text\n",
    "            matchDict['awayPassDirectionLeft'] = driver.find_element_by_xpath('//*[@id=\"chalkboard\"]/div[2]/div[3]/div[5]/div[4]/span[2]').text\n",
    "            matchDict['homePassDirectionRight'] = driver.find_element_by_xpath('//*[@id=\"chalkboard\"]/div[2]/div[3]/div[5]/div[5]/span[1]').text\n",
    "            matchDict['awayPassDirectionRight'] = driver.find_element_by_xpath('//*[@id=\"chalkboard\"]/div[2]/div[3]/div[5]/div[5]/span[2]').text\n",
    "            matchDict['homePassTargetDef'] = driver.find_element_by_xpath('//*[@id=\"chalkboard\"]/div[2]/div[3]/div[6]/div[2]/span[1]').text\n",
    "            matchDict['awayPassTargetDef'] = driver.find_element_by_xpath('//*[@id=\"chalkboard\"]/div[2]/div[3]/div[6]/div[2]/span[2]').text\n",
    "            matchDict['homePassTargetMid'] = driver.find_element_by_xpath('//*[@id=\"chalkboard\"]/div[2]/div[3]/div[6]/div[3]/span[1]').text\n",
    "            matchDict['awayPassTargetMid'] = driver.find_element_by_xpath('//*[@id=\"chalkboard\"]/div[2]/div[3]/div[6]/div[3]/span[2]').text\n",
    "            matchDict['homePassTargetAtt'] = driver.find_element_by_xpath('//*[@id=\"chalkboard\"]/div[2]/div[3]/div[6]/div[4]/span[1]').text\n",
    "            matchDict['awayPassTargetAtt'] = driver.find_element_by_xpath('//*[@id=\"chalkboard\"]/div[2]/div[3]/div[6]/div[4]/span[2]').text\n",
    "\n",
    "            dribbles = driver.find_element_by_xpath('//*[@id=\"event-type-filters\"]/li[3]/a/div')\n",
    "            dribbles.click()\n",
    "            time.sleep(1)\n",
    "\n",
    "            matchDict['homeDribblesGood'] = driver.find_element_by_xpath('//*[@id=\"chalkboard\"]/div[2]/div[5]/div/div[2]/span[1]').text\n",
    "            matchDict['awayDribblesGood'] = driver.find_element_by_xpath('//*[@id=\"chalkboard\"]/div[2]/div[5]/div/div[2]/span[2]').text\n",
    "            matchDict['homeDribblesBad'] = driver.find_element_by_xpath('//*[@id=\"chalkboard\"]/div[2]/div[5]/div/div[3]/span[1]').text\n",
    "            matchDict['awayDribblesBad'] = driver.find_element_by_xpath('//*[@id=\"chalkboard\"]/div[2]/div[5]/div/div[3]/span[2]').text\n",
    "\n",
    "            tackles = driver.find_element_by_xpath('//*[@id=\"event-type-filters\"]/li[4]/a/div')\n",
    "            tackles.click()\n",
    "            time.sleep(1)\n",
    "\n",
    "            matchDict['homeTacklesGood'] = driver.find_element_by_xpath('//*[@id=\"chalkboard\"]/div[2]/div[7]/div/div[2]/span[1]').text\n",
    "            matchDict['awayTacklesGood'] = driver.find_element_by_xpath('//*[@id=\"chalkboard\"]/div[2]/div[7]/div/div[2]/span[2]').text\n",
    "            matchDict['homeTacklesBad'] = driver.find_element_by_xpath('//*[@id=\"chalkboard\"]/div[2]/div[7]/div/div[3]/span[1]').text\n",
    "            matchDict['awayTacklesBad'] = driver.find_element_by_xpath('//*[@id=\"chalkboard\"]/div[2]/div[7]/div/div[3]/span[2]').text\n",
    "            matchDict['homeInterceptions'] = driver.find_element_by_xpath('//*[@id=\"event-type-filters\"]/li[5]/a/div/span[1]').text\n",
    "            matchDict['awayInterceptions'] = driver.find_element_by_xpath('//*[@id=\"event-type-filters\"]/li[5]/a/div/span[3]').text\n",
    "\n",
    "            clearances = driver.find_element_by_xpath('//*[@id=\"event-type-filters\"]/li[6]/a/div')\n",
    "            clearances.click()\n",
    "            time.sleep(1)\n",
    "\n",
    "            matchDict['homeClearance'] = driver.find_element_by_xpath('//*[@id=\"chalkboard\"]/div[2]/div[11]/div[1]/div[2]/span[1]').text\n",
    "            matchDict['awayClearance'] = driver.find_element_by_xpath('//*[@id=\"chalkboard\"]/div[2]/div[11]/div[1]/div[2]/span[2]').text\n",
    "            matchDict['homeClearanceOffLine'] = driver.find_element_by_xpath('//*[@id=\"chalkboard\"]/div[2]/div[11]/div[1]/div[3]/span[1]').text\n",
    "            matchDict['awayClearanceOffLine'] = driver.find_element_by_xpath('//*[@id=\"chalkboard\"]/div[2]/div[11]/div[1]/div[3]/span[2]').text\n",
    "            matchDict['homeClearanceHead'] = driver.find_element_by_xpath('//*[@id=\"chalkboard\"]/div[2]/div[11]/div[2]/div[2]/span[1]').text\n",
    "            matchDict['awayClearanceHead'] = driver.find_element_by_xpath('//*[@id=\"chalkboard\"]/div[2]/div[11]/div[2]/div[2]/span[2]').text\n",
    "            matchDict['homeClearanceFeet'] = driver.find_element_by_xpath('//*[@id=\"chalkboard\"]/div[2]/div[11]/div[2]/div[3]/span[1]').text\n",
    "            matchDict['awayClearanceFeet'] = driver.find_element_by_xpath('//*[@id=\"chalkboard\"]/div[2]/div[11]/div[2]/div[3]/span[2]').text\n",
    "\n",
    "            blocks = driver.find_element_by_xpath('//*[@id=\"event-type-filters\"]/li[7]/a/div')\n",
    "            blocks.click()\n",
    "            time.sleep(1)\n",
    "\n",
    "            matchDict['homeBlockedShots'] = driver.find_element_by_xpath('//*[@id=\"chalkboard\"]/div[2]/div[13]/div/div[2]/span[1]').text\n",
    "            matchDict['awayBlockedShots'] = driver.find_element_by_xpath('//*[@id=\"chalkboard\"]/div[2]/div[13]/div/div[2]/span[2]').text\n",
    "            matchDict['homeBlockedCross'] = driver.find_element_by_xpath('//*[@id=\"chalkboard\"]/div[2]/div[13]/div/div[3]/span[1]').text\n",
    "            matchDict['awayBlockedCross'] = driver.find_element_by_xpath('//*[@id=\"chalkboard\"]/div[2]/div[13]/div/div[3]/span[2]').text\n",
    "            matchDict['homeOffsides'] = driver.find_element_by_xpath('//*[@id=\"event-type-filters\"]/li[8]/a/div/span[1]').text\n",
    "            matchDict['awayOffsides'] = driver.find_element_by_xpath('//*[@id=\"event-type-filters\"]/li[8]/a/div/span[3]').text\n",
    "            matchDict['homeFouls'] = driver.find_element_by_xpath('//*[@id=\"event-type-filters\"]/li[9]/a/div/span[1]').text\n",
    "            matchDict['awayFouls'] = driver.find_element_by_xpath('//*[@id=\"event-type-filters\"]/li[9]/a/div/span[3]').text\n",
    "            matchDict['homeAerialDuels'] = driver.find_element_by_xpath('//*[@id=\"event-type-filters\"]/li[10]/a/div/span[1]').text\n",
    "            matchDict['awayAerialDuels'] = driver.find_element_by_xpath('//*[@id=\"event-type-filters\"]/li[10]/a/div/span[3]').text\n",
    "            matchDict['homeTouches'] = driver.find_element_by_xpath('//*[@id=\"event-type-filters\"]/li[11]/a/div/span[1]').text\n",
    "            matchDict['awayTouches'] = driver.find_element_by_xpath('//*[@id=\"event-type-filters\"]/li[11]/a/div/span[3]').text\n",
    "\n",
    "            lossofposs = driver.find_element_by_xpath('//*[@id=\"event-type-filters\"]/li[12]/a/div')\n",
    "            lossofposs.click()\n",
    "            time.sleep(1)\n",
    "\n",
    "            matchDict['homeDispossessed'] = driver.find_element_by_xpath('//*[@id=\"chalkboard\"]/div[2]/div[23]/div/div[2]/span[1]').text\n",
    "            matchDict['awayDispossessed'] = driver.find_element_by_xpath('//*[@id=\"chalkboard\"]/div[2]/div[23]/div/div[2]/span[2]').text\n",
    "            matchDict['homeTurnovers'] = driver.find_element_by_xpath('//*[@id=\"chalkboard\"]/div[2]/div[23]/div/div[3]/span[1]').text\n",
    "            matchDict['awayTurnovers'] = driver.find_element_by_xpath('//*[@id=\"chalkboard\"]/div[2]/div[23]/div/div[3]/span[2]').text\n",
    "\n",
    "            errors = driver.find_element_by_xpath('//*[@id=\"event-type-filters\"]/li[13]/a/div')\n",
    "            errors.click()\n",
    "            time.sleep(1)\n",
    "\n",
    "            matchDict['homeErrorstoShot'] = driver.find_element_by_xpath('//*[@id=\"chalkboard\"]/div[2]/div[25]/div/div[2]/span[1]').text\n",
    "            matchDict['awayErrorstoShot'] = driver.find_element_by_xpath('//*[@id=\"chalkboard\"]/div[2]/div[25]/div/div[2]/span[2]').text\n",
    "            matchDict['homeErrorstoGoal'] = driver.find_element_by_xpath('//*[@id=\"chalkboard\"]/div[2]/div[25]/div/div[3]/span[1]').text\n",
    "            matchDict['awayErrorstoGoal'] = driver.find_element_by_xpath('//*[@id=\"chalkboard\"]/div[2]/div[25]/div/div[3]/span[2]').text\n",
    "            matchDict['homeSaves'] = driver.find_element_by_xpath('//*[@id=\"event-type-filters\"]/li[14]/a/div/span[1]').text\n",
    "            matchDict['awaySaves'] = driver.find_element_by_xpath('//*[@id=\"event-type-filters\"]/li[14]/a/div/span[3]').text\n",
    "            matchDict['homeClaims'] = driver.find_element_by_xpath('//*[@id=\"event-type-filters\"]/li[15]/a/div/span[1]').text\n",
    "            matchDict['awayClaims'] = driver.find_element_by_xpath('//*[@id=\"event-type-filters\"]/li[15]/a/div/span[3]').text\n",
    "            matchDict['homePunches'] = driver.find_element_by_xpath('//*[@id=\"event-type-filters\"]/li[16]/a/div/span[1]').text\n",
    "            matchDict['awayPunches'] = driver.find_element_by_xpath('//*[@id=\"event-type-filters\"]/li[16]/a/div/span[3]').text    \n",
    "            \n",
    "            with open(filename) as feedsjson:\n",
    "                feeds = json.load(feedsjson)\n",
    "                feeds.append(matchDict)\n",
    "\n",
    "            with open(filename, mode='w') as f:\n",
    "                f.write(json.dumps(feeds, indent = 1))\n",
    "        else:\n",
    "            pass"
   ]
  },
  {
   "cell_type": "code",
   "execution_count": 14,
   "metadata": {
    "ExecuteTime": {
     "end_time": "2018-02-09T03:06:31.968466Z",
     "start_time": "2018-02-09T03:06:31.918691Z"
    }
   },
   "outputs": [
    {
     "data": {
      "text/plain": [
       "261"
      ]
     },
     "execution_count": 14,
     "metadata": {},
     "output_type": "execute_result"
    }
   ],
   "source": [
    "with open('20172018.json') as f:\n",
    "   data = json.load(f)\n",
    "\n",
    "df = pd.DataFrame(data)\n",
    "len(df)"
   ]
  },
  {
   "cell_type": "code",
   "execution_count": 37,
   "metadata": {
    "ExecuteTime": {
     "end_time": "2018-02-07T23:46:50.318887Z",
     "start_time": "2018-02-07T23:13:07.246235Z"
    }
   },
   "outputs": [],
   "source": [
    "getMatchStats(s1718)"
   ]
  },
  {
   "cell_type": "code",
   "execution_count": 44,
   "metadata": {
    "ExecuteTime": {
     "end_time": "2018-02-07T04:42:28.444990Z",
     "start_time": "2018-02-07T04:42:28.414099Z"
    }
   },
   "outputs": [],
   "source": [
    "def retrieveMatchStats(season):\n",
    "    filename = '%s.json' % (''.join(season[0].split(\"-\")[3:5]))\n",
    "    data = []\n",
    "    if not os.path.isfile(filename):\n",
    "        with open(filename, mode = 'w') as f:\n",
    "            data.append({'url': 'dummy'})\n",
    "            f.write(json.dumps(data, indent = 1))\n",
    "    while True:\n",
    "        with open(filename) as f:\n",
    "            data = json.load(f)\n",
    "        df = pd.DataFrame(data)\n",
    "        if len(df) < 381:\n",
    "            try:\n",
    "                getMatchStats(season)\n",
    "            except:\n",
    "                pass\n",
    "        else:\n",
    "            break"
   ]
  },
  {
   "cell_type": "code",
   "execution_count": 17,
   "metadata": {
    "ExecuteTime": {
     "end_time": "2018-02-07T19:23:05.475197Z",
     "start_time": "2018-02-07T19:23:05.371665Z"
    }
   },
   "outputs": [
    {
     "ename": "NameError",
     "evalue": "name 'retrieveMatchStats' is not defined",
     "output_type": "error",
     "traceback": [
      "\u001b[0;31m---------------------------------------------------------------------------\u001b[0m",
      "\u001b[0;31mNameError\u001b[0m                                 Traceback (most recent call last)",
      "\u001b[0;32m<ipython-input-17-af97045bd9f0>\u001b[0m in \u001b[0;36m<module>\u001b[0;34m()\u001b[0m\n\u001b[0;32m----> 1\u001b[0;31m \u001b[0mretrieveMatchStats\u001b[0m\u001b[0;34m(\u001b[0m\u001b[0ms1718\u001b[0m\u001b[0;34m)\u001b[0m\u001b[0;34m\u001b[0m\u001b[0m\n\u001b[0m",
      "\u001b[0;31mNameError\u001b[0m: name 'retrieveMatchStats' is not defined"
     ]
    }
   ],
   "source": [
    "retrieveMatchStats(s1718)"
   ]
  },
  {
   "cell_type": "markdown",
   "metadata": {},
   "source": [
    "# SCRAPING END"
   ]
  },
  {
   "cell_type": "markdown",
   "metadata": {},
   "source": [
    "### Nice to Haves"
   ]
  },
  {
   "cell_type": "code",
   "execution_count": 7,
   "metadata": {
    "ExecuteTime": {
     "end_time": "2018-02-10T16:07:07.201602Z",
     "start_time": "2018-02-10T16:07:06.717180Z"
    }
   },
   "outputs": [],
   "source": [
    "def getAdditionalInfo(season):\n",
    "    for match in season:\n",
    "        filename = '%s%s.json' % ('addtlinfo', ''.join(match.split(\"-\")[3:5]))\n",
    "        with open(filename) as f:\n",
    "           data = json.load(f)\n",
    "        if match not in pd.DataFrame(data).url.values or len(pd.DataFrame(data)) == 0:\n",
    "            matchDict = {}\n",
    "            driver.get(match)\n",
    "            time.sleep(1)\n",
    "            #main\n",
    "            matchDict['url'] = match\n",
    "            matchDict['homeTeam'] = wait.until(EC.element_to_be_clickable((By.XPATH, '//*[@id=\"match-header\"]/table/tbody/tr[1]/td[1]/a'))).text\n",
    "            matchDict['awayTeam'] = driver.find_element_by_xpath('//*[@id=\"match-header\"]/table/tbody/tr[1]/td[3]/a').text\n",
    "            #timeline\n",
    "            homeTimeline = driver.find_element_by_xpath('//*[@id=\"match-centre-timeline\"]/div[1]/div[2]/div[1]')\n",
    "            homeEvents = homeTimeline.find_elements_by_css_selector(\".timeline-event.incident-icon\")\n",
    "\n",
    "            awayTimeline = driver.find_element_by_xpath('//*[@id=\"match-centre-timeline\"]/div[1]/div[2]/div[3]')\n",
    "            awayEvents = awayTimeline.find_elements_by_css_selector(\".timeline-event.incident-icon\")\n",
    "\n",
    "            homeList = []\n",
    "            for i in homeEvents:\n",
    "                homeList.append([i.get_attribute(\"data-minute\"), i.get_attribute(\"title\")])\n",
    "            matchDict['homeTimeline'] = homeList\n",
    "\n",
    "            awayList = []\n",
    "            for i in awayEvents:\n",
    "                awayList.append([i.get_attribute(\"data-minute\"), i.get_attribute(\"title\")])\n",
    "            matchDict['awayTimeline'] = awayList\n",
    "\n",
    "            #preview - only available from 2010/2011 onwards. USED to PREDICT THIS GAME\n",
    "            driver.execute_script(\"window.scrollTo(0, 800)\")\n",
    "            preview = wait.until(EC.presence_of_element_located((By.XPATH, '//*[@id=\"sub-navigation\"]/ul/li[1]/a')))\n",
    "            preview.click()\n",
    "            time.sleep(1)\n",
    "\n",
    "            missing = driver.find_elements_by_class_name('pn')\n",
    "            missing = [x.text for x in missing if x.text != \"Player\"]\n",
    "            missing = [x.split(\" \") for x in missing]\n",
    "            missing2 = []\n",
    "            for name in missing:\n",
    "                initials = [part[0] for part in name[:-1]]\n",
    "                name = '. '.join(initials + [name[-1]])\n",
    "                missing2.append(name)\n",
    "            status = driver.find_elements_by_class_name('confirmed')\n",
    "            status = [x.text for x in status]\n",
    "\n",
    "            doubtfulPlayers = []\n",
    "            missingPlayers = []\n",
    "\n",
    "            for i in range(len(status)):\n",
    "                if status[i] == \"Out\":\n",
    "                    missingPlayers.append(missing2[i])\n",
    "                else:\n",
    "                    doubtfulPlayers.append(missing2[i])\n",
    "\n",
    "            matchDict['doubtfulPlayers'] = doubtfulPlayers\n",
    "            matchDict['missingPlayers'] = missingPlayers\n",
    "            \n",
    "            with open(filename) as feedsjson:\n",
    "                feeds = json.load(feedsjson)\n",
    "                feeds.append(matchDict)\n",
    "\n",
    "            with open(filename, mode='w') as f:\n",
    "                f.write(json.dumps(feeds, indent = 1))\n",
    "        else:\n",
    "            pass"
   ]
  },
  {
   "cell_type": "code",
   "execution_count": 8,
   "metadata": {
    "ExecuteTime": {
     "end_time": "2018-02-10T16:07:07.286043Z",
     "start_time": "2018-02-10T16:07:07.219227Z"
    }
   },
   "outputs": [],
   "source": [
    "def retrieveAdditionalInfo(season):\n",
    "    filename = '%s%s.json' % ('addtlinfo', ''.join(season[0].split(\"-\")[3:5]))\n",
    "    data = []\n",
    "    if not os.path.isfile(filename):\n",
    "        with open(filename, mode = 'w') as f:\n",
    "            data.append({'url': 'dummy'})\n",
    "            f.write(json.dumps(data, indent = 1))\n",
    "    while True:\n",
    "        with open(filename) as f:\n",
    "            data = json.load(f)\n",
    "        df = pd.DataFrame(data)\n",
    "        if len(df) < 381:\n",
    "            try:\n",
    "                getAdditionalInfo(season)\n",
    "            except:\n",
    "                pass\n",
    "        else:\n",
    "            break"
   ]
  },
  {
   "cell_type": "code",
   "execution_count": 18,
   "metadata": {
    "ExecuteTime": {
     "end_time": "2018-02-09T03:13:26.431501Z",
     "start_time": "2018-02-09T03:13:26.421076Z"
    }
   },
   "outputs": [
    {
     "ename": "NameError",
     "evalue": "name 'getAdditionalInfo' is not defined",
     "output_type": "error",
     "traceback": [
      "\u001b[0;31m---------------------------------------------------------------------------\u001b[0m",
      "\u001b[0;31mNameError\u001b[0m                                 Traceback (most recent call last)",
      "\u001b[0;32m<ipython-input-18-27c2479a7439>\u001b[0m in \u001b[0;36m<module>\u001b[0;34m()\u001b[0m\n\u001b[0;32m----> 1\u001b[0;31m \u001b[0mgetAdditionalInfo\u001b[0m\u001b[0;34m(\u001b[0m\u001b[0ms1415\u001b[0m\u001b[0;34m)\u001b[0m\u001b[0;34m\u001b[0m\u001b[0m\n\u001b[0m",
      "\u001b[0;31mNameError\u001b[0m: name 'getAdditionalInfo' is not defined"
     ]
    }
   ],
   "source": [
    "getAdditionalInfo(s1415)"
   ]
  },
  {
   "cell_type": "code",
   "execution_count": 23,
   "metadata": {
    "ExecuteTime": {
     "end_time": "2018-02-09T05:10:58.406366Z",
     "start_time": "2018-02-09T03:14:29.212727Z"
    }
   },
   "outputs": [],
   "source": [
    "retrieveAdditionalInfo(s1415)"
   ]
  },
  {
   "cell_type": "code",
   "execution_count": 25,
   "metadata": {
    "ExecuteTime": {
     "end_time": "2018-02-09T07:17:10.059645Z",
     "start_time": "2018-02-09T05:11:00.227974Z"
    }
   },
   "outputs": [],
   "source": [
    "retrieveAdditionalInfo(s1516)"
   ]
  },
  {
   "cell_type": "code",
   "execution_count": 12,
   "metadata": {
    "ExecuteTime": {
     "end_time": "2018-02-09T16:25:14.237637Z",
     "start_time": "2018-02-09T14:41:09.249595Z"
    }
   },
   "outputs": [],
   "source": [
    "retrieveAdditionalInfo(s1617)"
   ]
  },
  {
   "cell_type": "code",
   "execution_count": null,
   "metadata": {
    "ExecuteTime": {
     "start_time": "2018-02-10T16:05:23.494Z"
    }
   },
   "outputs": [],
   "source": [
    "retrieveAdditionalInfo(s1718)"
   ]
  },
  {
   "cell_type": "code",
   "execution_count": 13,
   "metadata": {
    "ExecuteTime": {
     "end_time": "2018-02-09T16:25:24.123401Z",
     "start_time": "2018-02-09T16:25:24.048282Z"
    }
   },
   "outputs": [
    {
     "data": {
      "text/plain": [
       "381"
      ]
     },
     "execution_count": 13,
     "metadata": {},
     "output_type": "execute_result"
    }
   ],
   "source": [
    "with open('addtlinfo20162017.json') as f:\n",
    "   data = json.load(f)\n",
    "\n",
    "df = pd.DataFrame(data)\n",
    "len(df)"
   ]
  },
  {
   "cell_type": "code",
   "execution_count": null,
   "metadata": {},
   "outputs": [],
   "source": []
  }
 ],
 "metadata": {
  "kernelspec": {
   "display_name": "Python 3",
   "language": "python",
   "name": "python3"
  },
  "language_info": {
   "codemirror_mode": {
    "name": "ipython",
    "version": 3
   },
   "file_extension": ".py",
   "mimetype": "text/x-python",
   "name": "python",
   "nbconvert_exporter": "python",
   "pygments_lexer": "ipython3",
   "version": "3.5.1"
  },
  "varInspector": {
   "cols": {
    "lenName": 16,
    "lenType": 16,
    "lenVar": 40
   },
   "kernels_config": {
    "python": {
     "delete_cmd_postfix": "",
     "delete_cmd_prefix": "del ",
     "library": "var_list.py",
     "varRefreshCmd": "print(var_dic_list())"
    },
    "r": {
     "delete_cmd_postfix": ") ",
     "delete_cmd_prefix": "rm(",
     "library": "var_list.r",
     "varRefreshCmd": "cat(var_dic_list()) "
    }
   },
   "position": {
    "height": "144px",
    "left": "1071px",
    "right": "20px",
    "top": "120px",
    "width": "350px"
   },
   "types_to_exclude": [
    "module",
    "function",
    "builtin_function_or_method",
    "instance",
    "_Feature"
   ],
   "window_display": false
  }
 },
 "nbformat": 4,
 "nbformat_minor": 2
}
