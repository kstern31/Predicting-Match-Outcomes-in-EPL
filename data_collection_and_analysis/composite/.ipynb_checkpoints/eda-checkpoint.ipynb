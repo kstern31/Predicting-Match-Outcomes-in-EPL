{
 "cells": [
  {
   "cell_type": "code",
   "execution_count": 23,
   "metadata": {
    "ExecuteTime": {
     "end_time": "2018-02-12T14:34:00.246312Z",
     "start_time": "2018-02-12T14:34:00.233147Z"
    }
   },
   "outputs": [],
   "source": [
    "import time\n",
    "import os\n",
    "import pickle\n",
    "import pandas as pd\n",
    "pd.set_option('display.max_colwidth', 1000)\n",
    "import numpy as np\n",
    "import json\n",
    "import pandas_profiling\n",
    "from datetime import datetime\n"
   ]
  },
  {
   "cell_type": "markdown",
   "metadata": {},
   "source": [
    "###  Feature Engineering"
   ]
  },
  {
   "cell_type": "code",
   "execution_count": 24,
   "metadata": {
    "ExecuteTime": {
     "end_time": "2018-02-12T14:34:00.956989Z",
     "start_time": "2018-02-12T14:34:00.929013Z"
    }
   },
   "outputs": [],
   "source": [
    "def createSimpleFeatures(season):\n",
    "    season['homeGoalsTotal'] = season.homeGoals + season.awayOwnGoal\n",
    "    season['awayGoalsTotal'] = season.awayGoals + season.homeOwnGoal\n",
    "    #labels\n",
    "    season['outcome'] = np.where(season.homeGoalsTotal > season.awayGoalsTotal,\n",
    "                                'Home Win', np.where(season.homeGoalsTotal < season.awayGoalsTotal,\n",
    "                                                     \"Away Win\", \"Draw\"))\n",
    "    #These variables are incorrect in the web scraped data, we will recreate them after.\n",
    "    season.drop(['homeWins', 'homeDraws', 'homeLosses', 'awayWins', 'awayDraws', 'awayLosses'], axis = 1, inplace = True)"
   ]
  },
  {
   "cell_type": "code",
   "execution_count": 25,
   "metadata": {
    "ExecuteTime": {
     "end_time": "2018-02-12T14:34:01.744642Z",
     "start_time": "2018-02-12T14:34:01.523688Z"
    }
   },
   "outputs": [],
   "source": [
    "#getting standings at the stage of each match\n",
    "def getStandings(season):\n",
    "    finalStandings = pd.DataFrame(columns = ['homeTeam', 'awayTeam', 'homeWins', 'homeDraws', 'homeLosses',\n",
    "                                        'awayWins', 'awayDraws', 'awayLosses'])\n",
    "    homeTeams = sorted(season.homeTeam.unique())\n",
    "    for team in homeTeams:\n",
    "        standings = pd.DataFrame(columns = ['homeTeam', 'awayTeam', 'wins', 'draws', 'losses'])\n",
    "        teamData = season[(season.homeTeam == team) | (season.awayTeam == team)]\n",
    "        for i in range(len(teamData)):\n",
    "            #iterate through each game for this team\n",
    "            tempdf = teamData.iloc[:i,:][['homeTeam', 'awayTeam', 'outcome']]\n",
    "            #calculate the number of wins,draws, and losses they have up until this point in time\n",
    "            wins = len(tempdf[((tempdf.homeTeam == team) & (tempdf.outcome == 'Home Win') |\n",
    "                     (tempdf.awayTeam == team) & (tempdf.outcome == 'Away Win'))])\n",
    "\n",
    "            draws = len(tempdf[((tempdf.homeTeam == team) & (tempdf.outcome == 'Draw') |\n",
    "                     (tempdf.awayTeam == team) & (tempdf.outcome == 'Draw'))])\n",
    "\n",
    "            losses = len(tempdf[((tempdf.homeTeam == team) & (tempdf.outcome == 'Away Win') |\n",
    "                     (tempdf.awayTeam == team) & (tempdf.outcome == 'Home Win'))])\n",
    "            #specify who was playing at home, and who was playing away\n",
    "            home = teamData.iloc[i,:].homeTeam\n",
    "\n",
    "            away = teamData.iloc[i,:].awayTeam\n",
    "\n",
    "            #create a dataframe that contains who was playing, and the W/D/L record for the team we are interested in\n",
    "            teamstandings = pd.DataFrame([[home,away,wins,draws,losses]],\n",
    "                                        columns = ['homeTeam', 'awayTeam', 'wins','draws','losses'])\n",
    "            #append that row of standings to a dataframe\n",
    "            standings = standings.append(teamstandings)\n",
    "\n",
    "            #since we need the W/D/L record at each game, regardless if the team of interest is playing \n",
    "            #at home or away, we need to split this out into homeWins if the team of interest is playing\n",
    "            #at home in the next game, and vice versa\n",
    "            homeStandings = standings[standings['homeTeam']==team] #rename to homeWins, homeDraws, homeLosses\n",
    "            homeStandings.rename({'wins': 'homeWins', 'draws': 'homeDraws',\n",
    "                                  'losses': 'homeLosses'}, axis = 1,inplace = True)\n",
    "\n",
    "            awayStandings = standings[standings['awayTeam']==team] #rename to awayWins, awayDraws, awayLosses\n",
    "            awayStandings.rename({'wins': 'awayWins', 'draws': 'awayDraws',\n",
    "                                  'losses': 'awayLosses'}, axis = 1,inplace = True)\n",
    "            #merge the two dataframes so that you have every game that the team of interest plays, and their \n",
    "            #W/D/L record in the appropriate home/away columns\n",
    "            compositeStandings = pd.merge(homeStandings, awayStandings, how='outer', \n",
    "                           left_on=['homeTeam','awayTeam'], right_on = ['homeTeam','awayTeam'])\n",
    "    \n",
    "        finalStandings = pd.concat([finalStandings,compositeStandings], ignore_index = True)\n",
    "    finalStandings = finalStandings.groupby(['homeTeam', 'awayTeam'], as_index =False).max()\n",
    "    return finalStandings    "
   ]
  },
  {
   "cell_type": "code",
   "execution_count": 26,
   "metadata": {
    "ExecuteTime": {
     "end_time": "2018-02-12T14:34:02.562840Z",
     "start_time": "2018-02-12T14:34:02.557170Z"
    }
   },
   "outputs": [],
   "source": [
    "def topPlayerOut(topList, missingList):\n",
    "    for i in topList:\n",
    "        if i in missingList:\n",
    "            return True"
   ]
  },
  {
   "cell_type": "code",
   "execution_count": 27,
   "metadata": {
    "ExecuteTime": {
     "end_time": "2018-02-12T14:34:03.104230Z",
     "start_time": "2018-02-12T14:34:03.012875Z"
    }
   },
   "outputs": [],
   "source": [
    "def readAndClean(season):\n",
    "    odds = pd.read_pickle('../odds/odds%s.pkl' % (season))\n",
    "    seasondata = pd.read_json('../seasons/%s.json' % (season))\n",
    "    seasondata = seasondata[seasondata.url != 'dummy']\n",
    "    addtl = pd.read_json('../seasons/addtlinfo%s.json' % (season))\n",
    "    addtl = addtl.drop('url', axis = 1)\n",
    "    odds.awayTeam.replace({'Manchester City': 'Man City', 'Manchester United': 'Man Utd',\n",
    "                           'Stoke\\n ': 'Stoke', 'Hull City': 'Hull'}, inplace = True)\n",
    "    odds.homeTeam.replace({'Manchester City': 'Man City', 'Manchester United': 'Man Utd',\n",
    "                           'Stoke\\n ': 'Stoke', 'Hull City': 'Hull'}, inplace = True)\n",
    "    df = pd.merge(seasondata, odds,  how='left', left_on=['homeTeam','awayTeam'], right_on = ['homeTeam','awayTeam'])\n",
    "    df = pd.merge(df, addtl, how = 'left', left_on = ['homeTeam', 'awayTeam'], right_on = ['homeTeam', 'awayTeam'])\n",
    "    #calculate binaries for when a team has a top player missing/doubtful\n",
    "    df['homeTopPlayerMissing'] = df.apply(lambda row: 1 if topPlayerOut(row['homeTopPlayers'], row['missingPlayers']) else 0, axis = 1)\n",
    "    df['awayTopPlayerMissing'] = df.apply(lambda row: 1 if topPlayerOut(row['awayTopPlayers'], row['missingPlayers']) else 0, axis = 1)\n",
    "    df['homeTopPlayerDoubtful'] = df.apply(lambda row: 1 if topPlayerOut(row['homeTopPlayers'], row['doubtfulPlayers']) else 0, axis = 1)\n",
    "    df['awayTopPlayerDoubtful'] = df.apply(lambda row: 1 if topPlayerOut(row['awayTopPlayers'], row['doubtfulPlayers']) else 0, axis = 1)\n",
    "    #create outcome label, total goals by game, and drop incorrect columns\n",
    "    createSimpleFeatures(df)\n",
    "    #create standings by gameweek\n",
    "    standings = getStandings(df)\n",
    "    #FULL DATASET\n",
    "    df = pd.merge(df, standings,  how='left', left_on=['homeTeam','awayTeam'], right_on = ['homeTeam','awayTeam'])\n",
    "    return df"
   ]
  },
  {
   "cell_type": "code",
   "execution_count": 205,
   "metadata": {
    "ExecuteTime": {
     "end_time": "2018-02-09T20:22:04.135443Z",
     "start_time": "2018-02-09T20:08:38.052857Z"
    }
   },
   "outputs": [
    {
     "name": "stderr",
     "output_type": "stream",
     "text": [
      "/Library/Frameworks/Python.framework/Versions/3.5/lib/python3.5/site-packages/pandas/core/frame.py:3027: SettingWithCopyWarning: \n",
      "A value is trying to be set on a copy of a slice from a DataFrame\n",
      "\n",
      "See the caveats in the documentation: http://pandas.pydata.org/pandas-docs/stable/indexing.html#indexing-view-versus-copy\n",
      "  return super(DataFrame, self).rename(**kwargs)\n"
     ]
    }
   ],
   "source": [
    "s1011 = readAndClean('20102011')\n",
    "s1112 = readAndClean('20112012')\n",
    "s1213 = readAndClean('20122013')\n",
    "s1314 = readAndClean('20132014')\n",
    "s1415 = readAndClean('20142015')\n",
    "s1516 = readAndClean('20152016')\n",
    "s1617 = readAndClean('20162017')\n"
   ]
  },
  {
   "cell_type": "code",
   "execution_count": 28,
   "metadata": {
    "ExecuteTime": {
     "end_time": "2018-02-12T14:35:29.696224Z",
     "start_time": "2018-02-12T14:34:15.972962Z"
    }
   },
   "outputs": [
    {
     "name": "stderr",
     "output_type": "stream",
     "text": [
      "/Library/Frameworks/Python.framework/Versions/3.5/lib/python3.5/site-packages/pandas/core/frame.py:3027: SettingWithCopyWarning: \n",
      "A value is trying to be set on a copy of a slice from a DataFrame\n",
      "\n",
      "See the caveats in the documentation: http://pandas.pydata.org/pandas-docs/stable/indexing.html#indexing-view-versus-copy\n",
      "  return super(DataFrame, self).rename(**kwargs)\n"
     ]
    }
   ],
   "source": [
    "s1718 = readAndClean('20172018')"
   ]
  },
  {
   "cell_type": "code",
   "execution_count": 230,
   "metadata": {
    "ExecuteTime": {
     "end_time": "2018-02-09T20:27:52.444803Z",
     "start_time": "2018-02-09T20:27:52.331699Z"
    }
   },
   "outputs": [],
   "source": [
    "s1011.to_pickle(\"final1011.pkl\")\n",
    "s1112.to_pickle(\"final1112.pkl\")\n",
    "s1213.to_pickle(\"final1213.pkl\")\n",
    "s1314.to_pickle(\"final1314.pkl\")\n",
    "s1415.to_pickle(\"final1415.pkl\")\n",
    "s1516.to_pickle(\"final1516.pkl\")\n",
    "s1617.to_pickle(\"final1617.pkl\")\n"
   ]
  },
  {
   "cell_type": "code",
   "execution_count": 29,
   "metadata": {
    "ExecuteTime": {
     "end_time": "2018-02-12T14:35:36.550004Z",
     "start_time": "2018-02-12T14:35:36.521253Z"
    }
   },
   "outputs": [],
   "source": [
    "s1718.to_pickle(\"final1718.pkl\")"
   ]
  },
  {
   "cell_type": "markdown",
   "metadata": {},
   "source": [
    "# Move to Modeling Notebook\n",
    "\n",
    "### Below is exploration"
   ]
  },
  {
   "cell_type": "markdown",
   "metadata": {},
   "source": [
    "Current Features: [['homeTeam', 'awayTeam', 'homePredAvgAge', 'awayPredAvgAge', 'homePredAvgHeight', 'awayPredAvgHeight', 'homeWins', 'homeDraws', 'homeLosses', 'awayWins', 'awayDraws', 'awayLosses']]\n",
    "\n",
    "Want to work on formation/manager/missing players/top players/referee"
   ]
  },
  {
   "cell_type": "code",
   "execution_count": 257,
   "metadata": {
    "ExecuteTime": {
     "end_time": "2018-02-09T21:12:11.920800Z",
     "start_time": "2018-02-09T21:12:11.899036Z"
    }
   },
   "outputs": [],
   "source": [
    "#DATASET CONTAINING PREVIEW FEATURES\n",
    "preview1516 = s1516[['date','homeTeam', 'awayTeam', 'homePredAvgAge', 'awayPredAvgAge',\n",
    "                     'homePredAvgHeight', 'awayPredAvgHeight', 'homeWins',\n",
    "                     'homeDraws', 'homeLosses', 'awayWins', 'awayDraws', 'awayLosses',\n",
    "                     ]]\n",
    "\n",
    "# 'homeTopPlayerMissing', 'homeTopPlayerDoubtful', 'awayTopPlayerMissing',\n",
    "#                      'awayTopPlayerDoubtful'"
   ]
  },
  {
   "cell_type": "code",
   "execution_count": 258,
   "metadata": {
    "ExecuteTime": {
     "end_time": "2018-02-09T21:12:13.532341Z",
     "start_time": "2018-02-09T21:12:13.521213Z"
    }
   },
   "outputs": [],
   "source": [
    "#DATASET CONTAINING PAST FEATURES - THIS WILL BE AVERAGED\n",
    "past1516 = s1516.drop(['homePredAvgAge', 'awayPredAvgAge',\n",
    "                       'homePredAvgHeight', 'awayPredAvgHeight', 'homeWins', \n",
    "                       'homeDraws', 'homeLosses', 'awayWins', 'awayDraws', 'awayLosses',\n",
    "                       'awayFormation', 'awayManager', 'awayTopPlayers', 'homeFormation',\n",
    "                       'homeManager', 'homeTopPlayers', 'referee', 'url', 'awayOdds', 'drawOdds',\n",
    "                       'homeOdds', 'outcome'], axis = 1)\n",
    "\n",
    "# , 'homeTimeline', 'awayTimeline', 'homeTopPlayerMissing',\n",
    "#                        'homeTopPlayerDoubtful', 'awayTopPlayerMissing', 'awayTopPlayerDoubtful',\n",
    "#                        'missingPlayers', 'doubtfulPlayers'"
   ]
  },
  {
   "cell_type": "code",
   "execution_count": 259,
   "metadata": {
    "ExecuteTime": {
     "end_time": "2018-02-09T21:12:15.346575Z",
     "start_time": "2018-02-09T21:12:15.312886Z"
    }
   },
   "outputs": [],
   "source": [
    "def getPastStats(home, away, numGames = 5):\n",
    "    mask = (past1516.homeTeam == home) & (past1516.awayTeam == away)\n",
    "    gameDate = past1516[mask].date.values[0]\n",
    "    awayMask = (past1516.awayTeam == away) & (past1516.date < gameDate)\n",
    "    homeMask = (past1516.homeTeam == home) & (past1516.date < gameDate)\n",
    "    awayGames = numGames\n",
    "    homeGames = numGames\n",
    "    if len(past1516[awayMask] < numGames):\n",
    "        awayGames = len(past1516[awayMask])\n",
    "    if len(past1516[homeMask] < numGames):\n",
    "        homeGames = len(past1516[homeMask])\n",
    "    temp = past1516.drop('date', axis = 1)    \n",
    "    homeTeamStats = temp[homeMask].iloc[-homeGames:,:].mean()#.to_frame().T\n",
    "    awayTeamStats = temp[awayMask].iloc[-awayGames:,:].mean()#.to_frame().T\n",
    "    homeTeamStats['homeTeam'] = home\n",
    "    homeTeamStats['awayTeam'] = away\n",
    "    awayTeamStats['awayTeam'] = away\n",
    "    awayTeamStats['homeTeam'] = home\n",
    "    return homeTeamStats, awayTeamStats"
   ]
  },
  {
   "cell_type": "markdown",
   "metadata": {},
   "source": [
    "The getPastStats function returns TWO dataframes. one consists of average offensive and defensive stats for the home team, when they are playing at home, and the other consists of average offensive and defensive stats for the away team, when they are playing away."
   ]
  },
  {
   "cell_type": "code",
   "execution_count": 260,
   "metadata": {
    "ExecuteTime": {
     "end_time": "2018-02-09T21:13:07.171280Z",
     "start_time": "2018-02-09T21:12:17.133799Z"
    }
   },
   "outputs": [],
   "source": [
    "pastHomeStats = pd.DataFrame(columns = past1516.columns.values).add_prefix(\"hometeamavg_\")\n",
    "pastAwayStats = pd.DataFrame(columns = past1516.columns.values).add_prefix(\"awayteamavg_\")\n",
    "\n",
    "homeTeams = sorted(past1516.homeTeam.unique())\n",
    "\n",
    "for i in homeTeams:\n",
    "    opp = [x for x in homeTeams if x != i]\n",
    "    for j in opp:\n",
    "        pastHomeStats = pastHomeStats.append(getPastStats(i,j, 5)[0].add_prefix(\"hometeamavg_\"), ignore_index = True)\n",
    "        pastAwayStats = pastAwayStats.append(getPastStats(i,j, 5)[1].add_prefix(\"awayteamavg_\"), ignore_index = True)"
   ]
  },
  {
   "cell_type": "code",
   "execution_count": 261,
   "metadata": {
    "ExecuteTime": {
     "end_time": "2018-02-09T21:13:08.918288Z",
     "start_time": "2018-02-09T21:13:08.905464Z"
    }
   },
   "outputs": [],
   "source": [
    "pastHomeStats.drop('hometeamavg_date', axis = 1, inplace = True)\n",
    "pastAwayStats.drop('awayteamavg_date', axis = 1, inplace = True)\n",
    "pastHomeStats.rename(columns = {'hometeamavg_homeTeam': 'homeTeam', 'hometeamavg_awayTeam': 'awayTeam'}, inplace =True)\n",
    "pastAwayStats.rename(columns = {'awayteamavg_homeTeam': 'homeTeam', 'awayteamavg_awayTeam': 'awayTeam'}, inplace =True)"
   ]
  },
  {
   "cell_type": "code",
   "execution_count": 262,
   "metadata": {
    "ExecuteTime": {
     "end_time": "2018-02-09T21:13:11.266944Z",
     "start_time": "2018-02-09T21:13:11.245681Z"
    }
   },
   "outputs": [],
   "source": [
    "pastStats = pd.merge(pastHomeStats, pastAwayStats,  how='left', left_on=['homeTeam','awayTeam'], right_on = ['homeTeam','awayTeam'])"
   ]
  },
  {
   "cell_type": "code",
   "execution_count": 263,
   "metadata": {
    "ExecuteTime": {
     "end_time": "2018-02-09T21:13:13.343351Z",
     "start_time": "2018-02-09T21:13:13.331736Z"
    }
   },
   "outputs": [],
   "source": [
    "df = pd.merge(preview1516, pastStats, how='left', left_on=['homeTeam','awayTeam'], right_on = ['homeTeam','awayTeam'])"
   ]
  },
  {
   "cell_type": "markdown",
   "metadata": {},
   "source": [
    "1. Create dataframe with one row with ALL features\n",
    "2. Keep game weeks 31-38 per season as test set\n",
    "3. Use k-folds cross val on the 70% of data (dont worry about messing with the dates?)\n",
    "4. Predict game 31 using data from 1-30. Partial fit to include game 31.\n",
    "5. Predict games 32-38 using similar steps as above\n",
    "6. Look into categorical variables/Cross- season modeling"
   ]
  },
  {
   "cell_type": "markdown",
   "metadata": {},
   "source": [
    "# Classification"
   ]
  },
  {
   "cell_type": "code",
   "execution_count": 401,
   "metadata": {
    "ExecuteTime": {
     "end_time": "2018-02-09T01:57:03.522454Z",
     "start_time": "2018-02-09T01:57:03.515162Z"
    }
   },
   "outputs": [],
   "source": [
    "from sklearn.preprocessing import scale\n",
    "from sklearn.neighbors import KNeighborsClassifier\n",
    "from sklearn.linear_model import LogisticRegression\n",
    "from sklearn.naive_bayes import GaussianNB\n",
    "from sklearn.svm import SVC\n",
    "from sklearn.tree import DecisionTreeClassifier\n",
    "from sklearn.ensemble import RandomForestClassifier\n",
    "from sklearn.metrics import accuracy_score, classification_report"
   ]
  },
  {
   "cell_type": "code",
   "execution_count": 402,
   "metadata": {
    "ExecuteTime": {
     "end_time": "2018-02-09T01:57:04.941687Z",
     "start_time": "2018-02-09T01:57:04.930881Z"
    }
   },
   "outputs": [],
   "source": [
    "def profit(unit, odds):\n",
    "    profit = 0\n",
    "    if odds > 0:\n",
    "        profit = odds*(unit/100)\n",
    "    else:\n",
    "        profit = -(100/odds) * unit\n",
    "    return profit"
   ]
  },
  {
   "cell_type": "code",
   "execution_count": 403,
   "metadata": {
    "ExecuteTime": {
     "end_time": "2018-02-09T01:57:06.246082Z",
     "start_time": "2018-02-09T01:57:06.226580Z"
    }
   },
   "outputs": [],
   "source": [
    "def totalProfit(unit, pred): #add second argument of predictions\n",
    "    oddsTable = s1516[['date','homeTeam', 'awayTeam', 'homeOdds', 'awayOdds',\n",
    "                       'drawOdds', 'outcome']][split+20:].reset_index(drop=True)\n",
    "    oddsTable['prediction'] = pred\n",
    "    oddsTable['outcomeOdds'] = np.where(oddsTable['outcome'] == 'Home Win',\n",
    "                                        oddsTable.homeOdds,\n",
    "                                        np.where(oddsTable['outcome'] == 'Away Win',\n",
    "                                                 oddsTable.awayOdds,\n",
    "                                                 oddsTable.drawOdds))\n",
    "    oddsTable['outcomeOdds'] = pd.to_numeric(oddsTable.outcomeOdds)\n",
    "    oddsTable.outcomeOdds.apply(lambda x: profit(unit, x));\n",
    "    oddsTable['profit'] = oddsTable.apply(lambda row:\n",
    "                                          profit(unit, row['outcomeOdds']) if row['outcome'] == row['prediction']\n",
    "                                          else -unit, axis = 1)\n",
    "    return oddsTable.profit.sum()"
   ]
  },
  {
   "cell_type": "code",
   "execution_count": 404,
   "metadata": {
    "ExecuteTime": {
     "end_time": "2018-02-09T01:57:07.351996Z",
     "start_time": "2018-02-09T01:57:07.340664Z"
    }
   },
   "outputs": [],
   "source": [
    "X = df.drop(['homeTeam', 'awayTeam', 'date'], axis = 1).iloc[20:,:].reset_index(drop=True)\n",
    "y = s1516.outcome[20:].reset_index(drop=True)"
   ]
  },
  {
   "cell_type": "code",
   "execution_count": 405,
   "metadata": {
    "ExecuteTime": {
     "end_time": "2018-02-09T01:57:08.588064Z",
     "start_time": "2018-02-09T01:57:08.584526Z"
    }
   },
   "outputs": [],
   "source": [
    "trainSize = 0.7\n",
    "split = round(len(X)*trainSize)"
   ]
  },
  {
   "cell_type": "code",
   "execution_count": 406,
   "metadata": {
    "ExecuteTime": {
     "end_time": "2018-02-09T01:57:09.914993Z",
     "start_time": "2018-02-09T01:57:09.908692Z"
    }
   },
   "outputs": [],
   "source": [
    "X_train, y_train, X_test, y_test = X.iloc[:split, :], y[:split], X.iloc[split:, :], y[split:]"
   ]
  },
  {
   "cell_type": "code",
   "execution_count": 407,
   "metadata": {
    "ExecuteTime": {
     "end_time": "2018-02-09T01:57:11.121689Z",
     "start_time": "2018-02-09T01:57:11.111917Z"
    }
   },
   "outputs": [],
   "source": [
    "sX_train = scale(X_train)\n",
    "sX_test = scale(X_test)"
   ]
  },
  {
   "cell_type": "code",
   "execution_count": 411,
   "metadata": {
    "ExecuteTime": {
     "end_time": "2018-02-09T01:58:56.067843Z",
     "start_time": "2018-02-09T01:58:55.412293Z"
    }
   },
   "outputs": [
    {
     "name": "stdout",
     "output_type": "stream",
     "text": [
      "Log: 0.4537037037037037\n",
      "Total Profit betting 15$ each time: 256.2343663605082\n",
      "\n",
      "KNN: 0.4074074074074074\n",
      "Total Profit betting 15$ each time: -74.26357812470721\n",
      "\n",
      "NB: 0.48148148148148145\n",
      "Total Profit betting 15$ each time: 42.44618264637794\n",
      "\n",
      "SVC: 0.48148148148148145\n",
      "Total Profit betting 15$ each time: -165.85526452409317\n",
      "\n",
      "Random Forest: 0.4166666666666667\n",
      "Total Profit betting 15$ each time: -36.796475065854\n",
      "\n",
      "Random Forest Classifier: 0.46296296296296297\n",
      "Total Profit betting 15$ each time: -80.38841196333814\n"
     ]
    }
   ],
   "source": [
    "unit = 15\n",
    "log = LogisticRegression()\n",
    "log.fit(sX_train, y_train)\n",
    "pred = log.predict(sX_test)\n",
    "print(\"Log: %s\" % (accuracy_score(y_test, pred)))\n",
    "print(\"Total Profit betting 15$ each time: %s\" % (totalProfit(unit,pred)))\n",
    "\n",
    "knn = KNeighborsClassifier()\n",
    "knn.fit(sX_train, y_train)\n",
    "pred = knn.predict(sX_test)\n",
    "print(\"\\nKNN: %s\" % (accuracy_score(y_test, pred)))\n",
    "print(\"Total Profit betting 15$ each time: %s\" % (totalProfit(unit,pred)))\n",
    "\n",
    "nb = GaussianNB()\n",
    "nb.fit(sX_train, y_train)\n",
    "pred = svm.predict(sX_test)\n",
    "print(\"\\nNB: %s\" %(accuracy_score(y_test,pred)))\n",
    "print(\"Total Profit betting 15$ each time: %s\" % (totalProfit(unit,pred)))\n",
    "\n",
    "svc = SVC()\n",
    "svc.fit(sX_train, y_train)\n",
    "pred = svc.predict(sX_test)\n",
    "print(\"\\nSVC: %s\" %(accuracy_score(y_test,pred)))\n",
    "print(\"Total Profit betting 15$ each time: %s\" % (totalProfit(unit,pred)))\n",
    "\n",
    "rforest = DecisionTreeClassifier()\n",
    "rforest.fit(X_train, y_train)\n",
    "pred = rforest.predict(X_test)\n",
    "print(\"\\nRandom Forest: %s\" % (accuracy_score(y_test,pred)))\n",
    "print(\"Total Profit betting 15$ each time: %s\" % (totalProfit(unit,pred)))\n",
    "\n",
    "rforest2 = RandomForestClassifier(15)\n",
    "rforest2.fit(X_train, y_train)\n",
    "pred = rforest2.predict(X_test)\n",
    "print(\"\\nRandom Forest Classifier: %s\" % (accuracy_score(y_test, pred)))\n",
    "print(\"Total Profit betting 15$ each time: %s\" % (totalProfit(unit,pred)))"
   ]
  },
  {
   "cell_type": "code",
   "execution_count": 333,
   "metadata": {
    "ExecuteTime": {
     "end_time": "2018-02-07T22:00:51.389777Z",
     "start_time": "2018-02-07T22:00:51.343028Z"
    }
   },
   "outputs": [],
   "source": [
    "#oddsTable.groupby('date').profit.sum()"
   ]
  },
  {
   "cell_type": "markdown",
   "metadata": {},
   "source": [
    "### Writing to pickle"
   ]
  },
  {
   "cell_type": "code",
   "execution_count": 137,
   "metadata": {
    "ExecuteTime": {
     "end_time": "2018-02-06T19:03:23.600387Z",
     "start_time": "2018-02-06T19:03:23.552269Z"
    }
   },
   "outputs": [],
   "source": [
    "def writeData(df):\n",
    "    df.to_pickle(\"%s.pkl\" % (df[0] + df[3:5] + df[7:9]))\n",
    "        "
   ]
  },
  {
   "cell_type": "code",
   "execution_count": null,
   "metadata": {},
   "outputs": [],
   "source": [
    "def getPreviewStats(season):\n",
    "    #DATASET CONTAINING PREVIEW FEATURES\n",
    "    preview = season[['date','homeTeam', 'awayTeam', 'homePredAvgAge', 'awayPredAvgAge',\n",
    "                     'homePredAvgHeight', 'awayPredAvgHeight', 'homeWins',\n",
    "                     'homeDraws', 'homeLosses', 'awayWins', 'awayDraws', 'awayLosses',\n",
    "                     'homeTopPlayerMissing', 'homeTopPlayerDoubtful', 'awayTopPlayerMissing',\n",
    "                     'awayTopPlayerDoubtful']]\n",
    "    return preview"
   ]
  },
  {
   "cell_type": "code",
   "execution_count": null,
   "metadata": {},
   "outputs": [],
   "source": [
    "def getPastStats(season):\n",
    "    #DATASET CONTAINING PAST FEATURES - THIS WILL BE AVERAGED by using the getPastAverages function\n",
    "    past = season.drop(['homePredAvgAge', 'awayPredAvgAge',\n",
    "                       'homePredAvgHeight', 'awayPredAvgHeight', 'homeWins', \n",
    "                       'homeDraws', 'homeLosses', 'awayWins', 'awayDraws', 'awayLosses',\n",
    "                       'awayFormation', 'awayManager', 'awayTopPlayers', 'homeFormation',\n",
    "                       'homeManager', 'homeTopPlayers', 'referee', 'url', 'awayOdds', 'drawOdds',\n",
    "                       'homeOdds', 'outcome', 'homeTimeline', 'awayTimeline', 'homeTopPlayerMissing',\n",
    "                       'homeTopPlayerDoubtful', 'awayTopPlayerMissing', 'awayTopPlayerDoubtful',\n",
    "                       'missingPlayers', 'doubtfulPlayers'], axis = 1)\n",
    "\n",
    "    return past"
   ]
  },
  {
   "cell_type": "code",
   "execution_count": 244,
   "metadata": {
    "ExecuteTime": {
     "end_time": "2018-02-09T20:50:20.154103Z",
     "start_time": "2018-02-09T20:50:20.115660Z"
    }
   },
   "outputs": [],
   "source": [
    "def getPastAverages(season, window_size):\n",
    "    homepaststats = season.groupby('homeTeam', as_index = False).rolling(window_size, min_periods = 1).mean().reset_index(level = 0, drop = True).add_prefix(\"home_\")\n",
    "    homepaststats.rename(columns = {'home_homeTeam': 'homeTeam', 'home_awayTeam': 'awayTeam'}, inplace = True)\n",
    "    #make list of all columns\n",
    "    shiftcolumns = homepaststats.columns.values[2:] #if the first 2 columns are home team and away team\n",
    "    homepaststats[shiftcolumns] = homepaststats.groupby(['homeTeam'])[shiftcolumns].transform(lambda x:x.shift())\n",
    "    \n",
    "    awaypaststats = season.groupby('awayTeam', as_index = False).rolling(window_size, min_periods = 1).mean().reset_index(level = 0, drop = True).add_prefix(\"away_\")\n",
    "    awaypaststats.rename(columns = {'away_homeTeam': 'homeTeam', 'away_awayTeam': 'awayTeam'}, inplace = True)\n",
    "    #make list of all columns\n",
    "    shiftcolumns = awaypaststats.columns.values[2:] #if the first 2 columns are home team and away team\n",
    "    awaypaststats[shiftcolumns] = awaypaststats.groupby(['awayTeam'])[shiftcolumns].transform(lambda x:x.shift())\n",
    "\n",
    "    pastStats = pd.merge(homepaststats, awaypaststats,  how='outer', left_on=['homeTeam','awayTeam'], right_on = ['homeTeam','awayTeam'])\n",
    "    return pastStats"
   ]
  },
  {
   "cell_type": "code",
   "execution_count": 252,
   "metadata": {
    "ExecuteTime": {
     "end_time": "2018-02-09T20:52:51.714357Z",
     "start_time": "2018-02-09T20:52:51.637818Z"
    }
   },
   "outputs": [],
   "source": [
    "homepaststats = s1011.groupby('homeTeam', as_index = False)[['homeTeam', 'awayTeam', 'awayClearanceFeet']].rolling(5, min_periods = 1).mean().reset_index(level = 0, drop = True).add_prefix(\"home_\")\n",
    "homepaststats.rename(columns = {'home_homeTeam': 'homeTeam', 'home_awayTeam': 'awayTeam'}, inplace = True)\n",
    "#make list of all columns\n",
    "shiftcolumns = homepaststats.columns.values[2:] #if the first 2 columns are home team and away team\n",
    "homepaststats[shiftcolumns] = homepaststats.groupby(['homeTeam'])[shiftcolumns].transform(lambda x:x.shift())\n"
   ]
  },
  {
   "cell_type": "code",
   "execution_count": 239,
   "metadata": {
    "ExecuteTime": {
     "end_time": "2018-02-09T20:48:18.089567Z",
     "start_time": "2018-02-09T20:48:18.004173Z"
    }
   },
   "outputs": [],
   "source": [
    "awaypaststats = s1011.groupby('awayTeam', as_index = False)[['homeTeam', 'awayTeam', 'awayClearanceFeet']].rolling(5, min_periods = 1).mean().reset_index(level = 0, drop = True).add_prefix(\"away_\")\n",
    "awaypaststats.rename(columns = {'away_homeTeam': 'homeTeam', 'away_awayTeam': 'awayTeam'}, inplace = True)\n",
    "#make list of all columns\n",
    "shiftcolumns = awaypaststats.columns.values[2:] #if the first 2 columns are home team and away team\n",
    "awaypaststats[shiftcolumns] = awaypaststats.groupby(['awayTeam'])[shiftcolumns].transform(lambda x:x.shift())\n"
   ]
  },
  {
   "cell_type": "code",
   "execution_count": 240,
   "metadata": {
    "ExecuteTime": {
     "end_time": "2018-02-09T20:48:19.317785Z",
     "start_time": "2018-02-09T20:48:19.312227Z"
    }
   },
   "outputs": [
    {
     "data": {
      "text/plain": [
       "(380, 159)"
      ]
     },
     "execution_count": 240,
     "metadata": {},
     "output_type": "execute_result"
    }
   ],
   "source": [
    "s1011.shape"
   ]
  },
  {
   "cell_type": "code",
   "execution_count": 241,
   "metadata": {
    "ExecuteTime": {
     "end_time": "2018-02-09T20:48:23.021181Z",
     "start_time": "2018-02-09T20:48:23.013452Z"
    }
   },
   "outputs": [],
   "source": [
    "pastStats = pd.merge(homepaststats, awaypaststats,  how='outer', left_on=['homeTeam','awayTeam'], right_on = ['homeTeam','awayTeam'])"
   ]
  },
  {
   "cell_type": "code",
   "execution_count": 246,
   "metadata": {
    "ExecuteTime": {
     "end_time": "2018-02-09T20:51:33.188231Z",
     "start_time": "2018-02-09T20:51:33.183428Z"
    }
   },
   "outputs": [],
   "source": [
    "test = s1011.drop('date', axis = 1)"
   ]
  },
  {
   "cell_type": "code",
   "execution_count": 251,
   "metadata": {
    "ExecuteTime": {
     "end_time": "2018-02-09T20:52:41.300723Z",
     "start_time": "2018-02-09T20:52:40.628487Z"
    }
   },
   "outputs": [],
   "source": [
    "x = getPastAverages(test, 5)"
   ]
  },
  {
   "cell_type": "code",
   "execution_count": 242,
   "metadata": {
    "ExecuteTime": {
     "end_time": "2018-02-09T20:48:24.222622Z",
     "start_time": "2018-02-09T20:48:24.191392Z"
    }
   },
   "outputs": [
    {
     "data": {
      "text/html": [
       "<div>\n",
       "<style scoped>\n",
       "    .dataframe tbody tr th:only-of-type {\n",
       "        vertical-align: middle;\n",
       "    }\n",
       "\n",
       "    .dataframe tbody tr th {\n",
       "        vertical-align: top;\n",
       "    }\n",
       "\n",
       "    .dataframe thead th {\n",
       "        text-align: right;\n",
       "    }\n",
       "</style>\n",
       "<table border=\"1\" class=\"dataframe\">\n",
       "  <thead>\n",
       "    <tr style=\"text-align: right;\">\n",
       "      <th></th>\n",
       "      <th>homeTeam</th>\n",
       "      <th>awayTeam</th>\n",
       "      <th>home_awayClearanceFeet</th>\n",
       "      <th>away_awayClearanceFeet</th>\n",
       "    </tr>\n",
       "  </thead>\n",
       "  <tbody>\n",
       "    <tr>\n",
       "      <th>0</th>\n",
       "      <td>Arsenal</td>\n",
       "      <td>Blackpool</td>\n",
       "      <td>NaN</td>\n",
       "      <td>16.000000</td>\n",
       "    </tr>\n",
       "    <tr>\n",
       "      <th>1</th>\n",
       "      <td>Arsenal</td>\n",
       "      <td>Bolton</td>\n",
       "      <td>12.000000</td>\n",
       "      <td>22.000000</td>\n",
       "    </tr>\n",
       "    <tr>\n",
       "      <th>2</th>\n",
       "      <td>Arsenal</td>\n",
       "      <td>West Brom</td>\n",
       "      <td>8.500000</td>\n",
       "      <td>18.500000</td>\n",
       "    </tr>\n",
       "    <tr>\n",
       "      <th>3</th>\n",
       "      <td>Arsenal</td>\n",
       "      <td>Birmingham</td>\n",
       "      <td>16.000000</td>\n",
       "      <td>12.333333</td>\n",
       "    </tr>\n",
       "    <tr>\n",
       "      <th>4</th>\n",
       "      <td>Arsenal</td>\n",
       "      <td>West Ham</td>\n",
       "      <td>13.750000</td>\n",
       "      <td>16.750000</td>\n",
       "    </tr>\n",
       "    <tr>\n",
       "      <th>5</th>\n",
       "      <td>Arsenal</td>\n",
       "      <td>Newcastle</td>\n",
       "      <td>14.400000</td>\n",
       "      <td>12.600000</td>\n",
       "    </tr>\n",
       "    <tr>\n",
       "      <th>6</th>\n",
       "      <td>Arsenal</td>\n",
       "      <td>Tottenham</td>\n",
       "      <td>16.200000</td>\n",
       "      <td>13.800000</td>\n",
       "    </tr>\n",
       "    <tr>\n",
       "      <th>7</th>\n",
       "      <td>Arsenal</td>\n",
       "      <td>Fulham</td>\n",
       "      <td>17.600000</td>\n",
       "      <td>15.800000</td>\n",
       "    </tr>\n",
       "    <tr>\n",
       "      <th>8</th>\n",
       "      <td>Arsenal</td>\n",
       "      <td>Chelsea</td>\n",
       "      <td>13.400000</td>\n",
       "      <td>8.600000</td>\n",
       "    </tr>\n",
       "    <tr>\n",
       "      <th>9</th>\n",
       "      <td>Arsenal</td>\n",
       "      <td>Man City</td>\n",
       "      <td>13.000000</td>\n",
       "      <td>17.600000</td>\n",
       "    </tr>\n",
       "    <tr>\n",
       "      <th>10</th>\n",
       "      <td>Arsenal</td>\n",
       "      <td>Wigan</td>\n",
       "      <td>12.400000</td>\n",
       "      <td>23.000000</td>\n",
       "    </tr>\n",
       "    <tr>\n",
       "      <th>11</th>\n",
       "      <td>Arsenal</td>\n",
       "      <td>Everton</td>\n",
       "      <td>11.600000</td>\n",
       "      <td>21.800000</td>\n",
       "    </tr>\n",
       "    <tr>\n",
       "      <th>12</th>\n",
       "      <td>Arsenal</td>\n",
       "      <td>Wolves</td>\n",
       "      <td>12.200000</td>\n",
       "      <td>13.400000</td>\n",
       "    </tr>\n",
       "    <tr>\n",
       "      <th>13</th>\n",
       "      <td>Arsenal</td>\n",
       "      <td>Stoke</td>\n",
       "      <td>13.800000</td>\n",
       "      <td>13.200000</td>\n",
       "    </tr>\n",
       "    <tr>\n",
       "      <th>14</th>\n",
       "      <td>Arsenal</td>\n",
       "      <td>Sunderland</td>\n",
       "      <td>16.600000</td>\n",
       "      <td>19.000000</td>\n",
       "    </tr>\n",
       "    <tr>\n",
       "      <th>15</th>\n",
       "      <td>Arsenal</td>\n",
       "      <td>Blackburn</td>\n",
       "      <td>16.200000</td>\n",
       "      <td>18.800000</td>\n",
       "    </tr>\n",
       "    <tr>\n",
       "      <th>16</th>\n",
       "      <td>Arsenal</td>\n",
       "      <td>Liverpool</td>\n",
       "      <td>18.000000</td>\n",
       "      <td>18.600000</td>\n",
       "    </tr>\n",
       "    <tr>\n",
       "      <th>17</th>\n",
       "      <td>Arsenal</td>\n",
       "      <td>Man Utd</td>\n",
       "      <td>17.800000</td>\n",
       "      <td>12.400000</td>\n",
       "    </tr>\n",
       "    <tr>\n",
       "      <th>18</th>\n",
       "      <td>Arsenal</td>\n",
       "      <td>Aston Villa</td>\n",
       "      <td>16.000000</td>\n",
       "      <td>12.400000</td>\n",
       "    </tr>\n",
       "    <tr>\n",
       "      <th>19</th>\n",
       "      <td>Aston Villa</td>\n",
       "      <td>West Ham</td>\n",
       "      <td>NaN</td>\n",
       "      <td>NaN</td>\n",
       "    </tr>\n",
       "    <tr>\n",
       "      <th>20</th>\n",
       "      <td>Aston Villa</td>\n",
       "      <td>Everton</td>\n",
       "      <td>18.000000</td>\n",
       "      <td>15.000000</td>\n",
       "    </tr>\n",
       "    <tr>\n",
       "      <th>21</th>\n",
       "      <td>Aston Villa</td>\n",
       "      <td>Bolton</td>\n",
       "      <td>15.500000</td>\n",
       "      <td>13.500000</td>\n",
       "    </tr>\n",
       "    <tr>\n",
       "      <th>22</th>\n",
       "      <td>Aston Villa</td>\n",
       "      <td>Chelsea</td>\n",
       "      <td>18.333333</td>\n",
       "      <td>9.666667</td>\n",
       "    </tr>\n",
       "    <tr>\n",
       "      <th>23</th>\n",
       "      <td>Aston Villa</td>\n",
       "      <td>Birmingham</td>\n",
       "      <td>15.250000</td>\n",
       "      <td>11.000000</td>\n",
       "    </tr>\n",
       "    <tr>\n",
       "      <th>24</th>\n",
       "      <td>Aston Villa</td>\n",
       "      <td>Blackpool</td>\n",
       "      <td>14.600000</td>\n",
       "      <td>20.200000</td>\n",
       "    </tr>\n",
       "    <tr>\n",
       "      <th>25</th>\n",
       "      <td>Aston Villa</td>\n",
       "      <td>Man Utd</td>\n",
       "      <td>14.400000</td>\n",
       "      <td>15.000000</td>\n",
       "    </tr>\n",
       "    <tr>\n",
       "      <th>26</th>\n",
       "      <td>Aston Villa</td>\n",
       "      <td>Arsenal</td>\n",
       "      <td>14.800000</td>\n",
       "      <td>16.800000</td>\n",
       "    </tr>\n",
       "    <tr>\n",
       "      <th>27</th>\n",
       "      <td>Aston Villa</td>\n",
       "      <td>West Brom</td>\n",
       "      <td>12.800000</td>\n",
       "      <td>9.600000</td>\n",
       "    </tr>\n",
       "    <tr>\n",
       "      <th>28</th>\n",
       "      <td>Aston Villa</td>\n",
       "      <td>Tottenham</td>\n",
       "      <td>13.600000</td>\n",
       "      <td>17.200000</td>\n",
       "    </tr>\n",
       "    <tr>\n",
       "      <th>29</th>\n",
       "      <td>Aston Villa</td>\n",
       "      <td>Sunderland</td>\n",
       "      <td>16.200000</td>\n",
       "      <td>20.800000</td>\n",
       "    </tr>\n",
       "    <tr>\n",
       "      <th>...</th>\n",
       "      <td>...</td>\n",
       "      <td>...</td>\n",
       "      <td>...</td>\n",
       "      <td>...</td>\n",
       "    </tr>\n",
       "    <tr>\n",
       "      <th>350</th>\n",
       "      <td>Wigan</td>\n",
       "      <td>Stoke</td>\n",
       "      <td>11.000000</td>\n",
       "      <td>14.200000</td>\n",
       "    </tr>\n",
       "    <tr>\n",
       "      <th>351</th>\n",
       "      <td>Wigan</td>\n",
       "      <td>Arsenal</td>\n",
       "      <td>11.000000</td>\n",
       "      <td>16.200000</td>\n",
       "    </tr>\n",
       "    <tr>\n",
       "      <th>352</th>\n",
       "      <td>Wigan</td>\n",
       "      <td>Newcastle</td>\n",
       "      <td>12.000000</td>\n",
       "      <td>13.200000</td>\n",
       "    </tr>\n",
       "    <tr>\n",
       "      <th>353</th>\n",
       "      <td>Wigan</td>\n",
       "      <td>Fulham</td>\n",
       "      <td>12.800000</td>\n",
       "      <td>16.600000</td>\n",
       "    </tr>\n",
       "    <tr>\n",
       "      <th>354</th>\n",
       "      <td>Wigan</td>\n",
       "      <td>Aston Villa</td>\n",
       "      <td>12.200000</td>\n",
       "      <td>12.000000</td>\n",
       "    </tr>\n",
       "    <tr>\n",
       "      <th>355</th>\n",
       "      <td>Wigan</td>\n",
       "      <td>Blackburn</td>\n",
       "      <td>14.200000</td>\n",
       "      <td>19.800000</td>\n",
       "    </tr>\n",
       "    <tr>\n",
       "      <th>356</th>\n",
       "      <td>Wigan</td>\n",
       "      <td>Man Utd</td>\n",
       "      <td>14.200000</td>\n",
       "      <td>14.800000</td>\n",
       "    </tr>\n",
       "    <tr>\n",
       "      <th>357</th>\n",
       "      <td>Wigan</td>\n",
       "      <td>Birmingham</td>\n",
       "      <td>13.200000</td>\n",
       "      <td>15.600000</td>\n",
       "    </tr>\n",
       "    <tr>\n",
       "      <th>358</th>\n",
       "      <td>Wigan</td>\n",
       "      <td>Tottenham</td>\n",
       "      <td>12.800000</td>\n",
       "      <td>15.400000</td>\n",
       "    </tr>\n",
       "    <tr>\n",
       "      <th>359</th>\n",
       "      <td>Wigan</td>\n",
       "      <td>Everton</td>\n",
       "      <td>14.000000</td>\n",
       "      <td>20.800000</td>\n",
       "    </tr>\n",
       "    <tr>\n",
       "      <th>360</th>\n",
       "      <td>Wigan</td>\n",
       "      <td>West Ham</td>\n",
       "      <td>13.200000</td>\n",
       "      <td>15.200000</td>\n",
       "    </tr>\n",
       "    <tr>\n",
       "      <th>361</th>\n",
       "      <td>Wolves</td>\n",
       "      <td>Stoke</td>\n",
       "      <td>NaN</td>\n",
       "      <td>NaN</td>\n",
       "    </tr>\n",
       "    <tr>\n",
       "      <th>362</th>\n",
       "      <td>Wolves</td>\n",
       "      <td>Newcastle</td>\n",
       "      <td>25.000000</td>\n",
       "      <td>18.000000</td>\n",
       "    </tr>\n",
       "    <tr>\n",
       "      <th>363</th>\n",
       "      <td>Wolves</td>\n",
       "      <td>Aston Villa</td>\n",
       "      <td>19.500000</td>\n",
       "      <td>14.500000</td>\n",
       "    </tr>\n",
       "    <tr>\n",
       "      <th>364</th>\n",
       "      <td>Wolves</td>\n",
       "      <td>West Ham</td>\n",
       "      <td>20.333333</td>\n",
       "      <td>16.666667</td>\n",
       "    </tr>\n",
       "    <tr>\n",
       "      <th>365</th>\n",
       "      <td>Wolves</td>\n",
       "      <td>Man City</td>\n",
       "      <td>19.500000</td>\n",
       "      <td>13.500000</td>\n",
       "    </tr>\n",
       "    <tr>\n",
       "      <th>366</th>\n",
       "      <td>Wolves</td>\n",
       "      <td>Arsenal</td>\n",
       "      <td>18.600000</td>\n",
       "      <td>16.600000</td>\n",
       "    </tr>\n",
       "    <tr>\n",
       "      <th>367</th>\n",
       "      <td>Wolves</td>\n",
       "      <td>Bolton</td>\n",
       "      <td>18.600000</td>\n",
       "      <td>18.200000</td>\n",
       "    </tr>\n",
       "    <tr>\n",
       "      <th>368</th>\n",
       "      <td>Wolves</td>\n",
       "      <td>Sunderland</td>\n",
       "      <td>20.600000</td>\n",
       "      <td>18.200000</td>\n",
       "    </tr>\n",
       "    <tr>\n",
       "      <th>369</th>\n",
       "      <td>Wolves</td>\n",
       "      <td>Birmingham</td>\n",
       "      <td>22.400000</td>\n",
       "      <td>13.800000</td>\n",
       "    </tr>\n",
       "    <tr>\n",
       "      <th>370</th>\n",
       "      <td>Wolves</td>\n",
       "      <td>Wigan</td>\n",
       "      <td>21.400000</td>\n",
       "      <td>19.600000</td>\n",
       "    </tr>\n",
       "    <tr>\n",
       "      <th>371</th>\n",
       "      <td>Wolves</td>\n",
       "      <td>Chelsea</td>\n",
       "      <td>24.400000</td>\n",
       "      <td>6.800000</td>\n",
       "    </tr>\n",
       "    <tr>\n",
       "      <th>372</th>\n",
       "      <td>Wolves</td>\n",
       "      <td>Liverpool</td>\n",
       "      <td>20.400000</td>\n",
       "      <td>9.200000</td>\n",
       "    </tr>\n",
       "    <tr>\n",
       "      <th>373</th>\n",
       "      <td>Wolves</td>\n",
       "      <td>Man Utd</td>\n",
       "      <td>22.200000</td>\n",
       "      <td>16.000000</td>\n",
       "    </tr>\n",
       "    <tr>\n",
       "      <th>374</th>\n",
       "      <td>Wolves</td>\n",
       "      <td>Blackpool</td>\n",
       "      <td>17.800000</td>\n",
       "      <td>23.800000</td>\n",
       "    </tr>\n",
       "    <tr>\n",
       "      <th>375</th>\n",
       "      <td>Wolves</td>\n",
       "      <td>Tottenham</td>\n",
       "      <td>20.200000</td>\n",
       "      <td>15.400000</td>\n",
       "    </tr>\n",
       "    <tr>\n",
       "      <th>376</th>\n",
       "      <td>Wolves</td>\n",
       "      <td>Everton</td>\n",
       "      <td>17.800000</td>\n",
       "      <td>20.000000</td>\n",
       "    </tr>\n",
       "    <tr>\n",
       "      <th>377</th>\n",
       "      <td>Wolves</td>\n",
       "      <td>Fulham</td>\n",
       "      <td>22.400000</td>\n",
       "      <td>13.600000</td>\n",
       "    </tr>\n",
       "    <tr>\n",
       "      <th>378</th>\n",
       "      <td>Wolves</td>\n",
       "      <td>West Brom</td>\n",
       "      <td>19.200000</td>\n",
       "      <td>12.600000</td>\n",
       "    </tr>\n",
       "    <tr>\n",
       "      <th>379</th>\n",
       "      <td>Wolves</td>\n",
       "      <td>Blackburn</td>\n",
       "      <td>20.200000</td>\n",
       "      <td>23.600000</td>\n",
       "    </tr>\n",
       "  </tbody>\n",
       "</table>\n",
       "<p>380 rows × 4 columns</p>\n",
       "</div>"
      ],
      "text/plain": [
       "        homeTeam     awayTeam  home_awayClearanceFeet  away_awayClearanceFeet\n",
       "0        Arsenal    Blackpool                     NaN               16.000000\n",
       "1        Arsenal       Bolton               12.000000               22.000000\n",
       "2        Arsenal    West Brom                8.500000               18.500000\n",
       "3        Arsenal   Birmingham               16.000000               12.333333\n",
       "4        Arsenal     West Ham               13.750000               16.750000\n",
       "5        Arsenal    Newcastle               14.400000               12.600000\n",
       "6        Arsenal    Tottenham               16.200000               13.800000\n",
       "7        Arsenal       Fulham               17.600000               15.800000\n",
       "8        Arsenal      Chelsea               13.400000                8.600000\n",
       "9        Arsenal     Man City               13.000000               17.600000\n",
       "10       Arsenal        Wigan               12.400000               23.000000\n",
       "11       Arsenal      Everton               11.600000               21.800000\n",
       "12       Arsenal       Wolves               12.200000               13.400000\n",
       "13       Arsenal        Stoke               13.800000               13.200000\n",
       "14       Arsenal   Sunderland               16.600000               19.000000\n",
       "15       Arsenal    Blackburn               16.200000               18.800000\n",
       "16       Arsenal    Liverpool               18.000000               18.600000\n",
       "17       Arsenal      Man Utd               17.800000               12.400000\n",
       "18       Arsenal  Aston Villa               16.000000               12.400000\n",
       "19   Aston Villa     West Ham                     NaN                     NaN\n",
       "20   Aston Villa      Everton               18.000000               15.000000\n",
       "21   Aston Villa       Bolton               15.500000               13.500000\n",
       "22   Aston Villa      Chelsea               18.333333                9.666667\n",
       "23   Aston Villa   Birmingham               15.250000               11.000000\n",
       "24   Aston Villa    Blackpool               14.600000               20.200000\n",
       "25   Aston Villa      Man Utd               14.400000               15.000000\n",
       "26   Aston Villa      Arsenal               14.800000               16.800000\n",
       "27   Aston Villa    West Brom               12.800000                9.600000\n",
       "28   Aston Villa    Tottenham               13.600000               17.200000\n",
       "29   Aston Villa   Sunderland               16.200000               20.800000\n",
       "..           ...          ...                     ...                     ...\n",
       "350        Wigan        Stoke               11.000000               14.200000\n",
       "351        Wigan      Arsenal               11.000000               16.200000\n",
       "352        Wigan    Newcastle               12.000000               13.200000\n",
       "353        Wigan       Fulham               12.800000               16.600000\n",
       "354        Wigan  Aston Villa               12.200000               12.000000\n",
       "355        Wigan    Blackburn               14.200000               19.800000\n",
       "356        Wigan      Man Utd               14.200000               14.800000\n",
       "357        Wigan   Birmingham               13.200000               15.600000\n",
       "358        Wigan    Tottenham               12.800000               15.400000\n",
       "359        Wigan      Everton               14.000000               20.800000\n",
       "360        Wigan     West Ham               13.200000               15.200000\n",
       "361       Wolves        Stoke                     NaN                     NaN\n",
       "362       Wolves    Newcastle               25.000000               18.000000\n",
       "363       Wolves  Aston Villa               19.500000               14.500000\n",
       "364       Wolves     West Ham               20.333333               16.666667\n",
       "365       Wolves     Man City               19.500000               13.500000\n",
       "366       Wolves      Arsenal               18.600000               16.600000\n",
       "367       Wolves       Bolton               18.600000               18.200000\n",
       "368       Wolves   Sunderland               20.600000               18.200000\n",
       "369       Wolves   Birmingham               22.400000               13.800000\n",
       "370       Wolves        Wigan               21.400000               19.600000\n",
       "371       Wolves      Chelsea               24.400000                6.800000\n",
       "372       Wolves    Liverpool               20.400000                9.200000\n",
       "373       Wolves      Man Utd               22.200000               16.000000\n",
       "374       Wolves    Blackpool               17.800000               23.800000\n",
       "375       Wolves    Tottenham               20.200000               15.400000\n",
       "376       Wolves      Everton               17.800000               20.000000\n",
       "377       Wolves       Fulham               22.400000               13.600000\n",
       "378       Wolves    West Brom               19.200000               12.600000\n",
       "379       Wolves    Blackburn               20.200000               23.600000\n",
       "\n",
       "[380 rows x 4 columns]"
      ]
     },
     "execution_count": 242,
     "metadata": {},
     "output_type": "execute_result"
    }
   ],
   "source": [
    "pastStats"
   ]
  },
  {
   "cell_type": "code",
   "execution_count": null,
   "metadata": {},
   "outputs": [],
   "source": []
  }
 ],
 "metadata": {
  "kernelspec": {
   "display_name": "Python 3",
   "language": "python",
   "name": "python3"
  },
  "language_info": {
   "codemirror_mode": {
    "name": "ipython",
    "version": 3
   },
   "file_extension": ".py",
   "mimetype": "text/x-python",
   "name": "python",
   "nbconvert_exporter": "python",
   "pygments_lexer": "ipython3",
   "version": "3.5.1"
  },
  "varInspector": {
   "cols": {
    "lenName": 16,
    "lenType": 16,
    "lenVar": 40
   },
   "kernels_config": {
    "python": {
     "delete_cmd_postfix": "",
     "delete_cmd_prefix": "del ",
     "library": "var_list.py",
     "varRefreshCmd": "print(var_dic_list())"
    },
    "r": {
     "delete_cmd_postfix": ") ",
     "delete_cmd_prefix": "rm(",
     "library": "var_list.r",
     "varRefreshCmd": "cat(var_dic_list()) "
    }
   },
   "types_to_exclude": [
    "module",
    "function",
    "builtin_function_or_method",
    "instance",
    "_Feature"
   ],
   "window_display": false
  }
 },
 "nbformat": 4,
 "nbformat_minor": 2
}
