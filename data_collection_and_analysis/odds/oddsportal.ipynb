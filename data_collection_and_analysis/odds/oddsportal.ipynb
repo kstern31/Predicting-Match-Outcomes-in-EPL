{
 "cells": [
  {
   "cell_type": "code",
   "execution_count": 1,
   "metadata": {
    "ExecuteTime": {
     "end_time": "2018-02-11T05:01:22.079028Z",
     "start_time": "2018-02-11T05:01:18.070261Z"
    }
   },
   "outputs": [],
   "source": [
    "from selenium import webdriver\n",
    "from selenium.webdriver.support.ui import Select\n",
    "import time\n",
    "import os\n",
    "import pickle\n",
    "import pandas as pd\n",
    "import json\n",
    "\n",
    "from selenium.webdriver.common.by import By\n",
    "from selenium.webdriver.support.ui import WebDriverWait\n",
    "from selenium.webdriver.support import expected_conditions as EC\n",
    "from selenium.common.exceptions import NoSuchElementException\n",
    "from selenium.common.exceptions import StaleElementReferenceException\n",
    "\n",
    "chromedriver = \"/Applications/chromedriver\"\n",
    "os.environ[\"webdriver.chrome.driver\"] = chromedriver\n",
    "\n",
    "driver = webdriver.Chrome(chromedriver)\n",
    "driver.implicitly_wait(5)\n",
    "ignored_exceptions=(NoSuchElementException,StaleElementReferenceException,)\n",
    "wait = WebDriverWait(driver, 5, ignored_exceptions = ignored_exceptions)"
   ]
  },
  {
   "cell_type": "code",
   "execution_count": 2,
   "metadata": {
    "ExecuteTime": {
     "end_time": "2018-02-11T05:01:23.065044Z",
     "start_time": "2018-02-11T05:01:23.061234Z"
    }
   },
   "outputs": [],
   "source": [
    "seasons = ['http://www.oddsportal.com/soccer/england/premier-league-2010-2011/results',\n",
    "          'http://www.oddsportal.com/soccer/england/premier-league-2011-2012/results',\n",
    "          'http://www.oddsportal.com/soccer/england/premier-league-2012-2013/results',\n",
    "          'http://www.oddsportal.com/soccer/england/premier-league-2013-2014/results',\n",
    "          'http://www.oddsportal.com/soccer/england/premier-league-2014-2015/results',\n",
    "          'http://www.oddsportal.com/soccer/england/premier-league-2015-2016/results',\n",
    "          'http://www.oddsportal.com/soccer/england/premier-league-2016-2017/results',\n",
    "          'http://www.oddsportal.com/soccer/england/premier-league/results/']"
   ]
  },
  {
   "cell_type": "code",
   "execution_count": 16,
   "metadata": {
    "ExecuteTime": {
     "end_time": "2018-02-11T05:10:53.784658Z",
     "start_time": "2018-02-11T05:10:53.696547Z"
    }
   },
   "outputs": [],
   "source": [
    "def getOdds(season):\n",
    "    driver.get(season)\n",
    "    df = pd.DataFrame(columns = ['homeTeam', 'awayTeam', 'homeOdds', 'drawOdds', 'awayOdds'])\n",
    "    pageNums = driver.find_element_by_id('pagination').text\n",
    "    pages = [x for x in pageNums if x.isdigit()]\n",
    "\n",
    "    for i in pages:\n",
    "        url = \"%s/#/page/%s\" % (season, i)\n",
    "        driver.get(url)\n",
    "        time.sleep(3)\n",
    "        #odds\n",
    "        odds = driver.find_elements_by_class_name('odds-nowrp')\n",
    "        oddsList = []\n",
    "        for i in odds:\n",
    "            oddsList.append(i.text)\n",
    "        oddsList = [oddsList[i:i+3] for i in range(0, len(oddsList), 3)]\n",
    "        #teams\n",
    "        time.sleep(3)\n",
    "        teams = driver.find_elements_by_css_selector('.name.table-participant')\n",
    "        teamsList = []\n",
    "        for i in teams:\n",
    "            teamsList.append(i.text)\n",
    "\n",
    "        #rearranging data\n",
    "        homeTeam = [x.split(\" -\")[0] for x in teamsList]\n",
    "        awayTeam = [x.split(\"- \")[1] for x in teamsList]\n",
    "        homeOdds = [x[0] for x in oddsList]\n",
    "        drawOdds = [x[1] for x in oddsList]\n",
    "        awayOdds = [x[2] for x in oddsList]\n",
    "\n",
    "        #convert to df and append to master df\n",
    "        dftemp = pd.DataFrame({'homeTeam' : homeTeam, 'awayTeam': awayTeam, 'homeOdds': homeOdds,\n",
    "                  'drawOdds': drawOdds, 'awayOdds': awayOdds})\n",
    "        df = df.append(dftemp, ignore_index = True)\n",
    "    if len(season) >= 73:\n",
    "        df.to_pickle(\"odds%s.pkl\" % (season[-17:-8].replace(\"-\", \"\")))\n",
    "    else:\n",
    "        df.to_pickle(\"odds20172018.pkl\")"
   ]
  },
  {
   "cell_type": "code",
   "execution_count": 18,
   "metadata": {
    "ExecuteTime": {
     "end_time": "2018-02-11T05:13:28.061354Z",
     "start_time": "2018-02-11T05:12:25.023337Z"
    }
   },
   "outputs": [],
   "source": [
    "for season in seasons:\n",
    "    getOdds(season)"
   ]
  },
  {
   "cell_type": "code",
   "execution_count": null,
   "metadata": {},
   "outputs": [],
   "source": []
  }
 ],
 "metadata": {
  "kernelspec": {
   "display_name": "Python 3",
   "language": "python",
   "name": "python3"
  },
  "language_info": {
   "codemirror_mode": {
    "name": "ipython",
    "version": 3
   },
   "file_extension": ".py",
   "mimetype": "text/x-python",
   "name": "python",
   "nbconvert_exporter": "python",
   "pygments_lexer": "ipython3",
   "version": "3.5.1"
  },
  "varInspector": {
   "cols": {
    "lenName": 16,
    "lenType": 16,
    "lenVar": 40
   },
   "kernels_config": {
    "python": {
     "delete_cmd_postfix": "",
     "delete_cmd_prefix": "del ",
     "library": "var_list.py",
     "varRefreshCmd": "print(var_dic_list())"
    },
    "r": {
     "delete_cmd_postfix": ") ",
     "delete_cmd_prefix": "rm(",
     "library": "var_list.r",
     "varRefreshCmd": "cat(var_dic_list()) "
    }
   },
   "types_to_exclude": [
    "module",
    "function",
    "builtin_function_or_method",
    "instance",
    "_Feature"
   ],
   "window_display": false
  }
 },
 "nbformat": 4,
 "nbformat_minor": 2
}
